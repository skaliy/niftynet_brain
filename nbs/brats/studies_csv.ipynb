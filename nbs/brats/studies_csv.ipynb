{
 "cells": [
  {
   "cell_type": "code",
   "execution_count": 25,
   "metadata": {
    "collapsed": true
   },
   "outputs": [],
   "source": [
    "import numpy as np\n",
    "import pandas as pd\n",
    "import sys, os\n",
    "import glob\n",
    "from pprint import pprint\n",
    "import csv"
   ]
  },
  {
   "cell_type": "code",
   "execution_count": 26,
   "metadata": {
    "collapsed": true
   },
   "outputs": [],
   "source": [
    "df_t1 = pd.read_csv('/home/sathiesh/niftynet_brain/csv/brats/orig_t1.csv', header=None)\n",
    "df_t2 = pd.read_csv('/home/sathiesh/niftynet_brain/csv/brats/orig_t2.csv', header=None)\n",
    "df_labels = pd.read_csv('/home/sathiesh/niftynet_brain/csv/brats/labels.csv', header=None)"
   ]
  },
  {
   "cell_type": "code",
   "execution_count": 27,
   "metadata": {
    "collapsed": true
   },
   "outputs": [],
   "source": [
    "df_case1 = pd.read_csv('/home/sathiesh/niftynet_brain/csv/brats/train_val_test/train_1.csv', header=None)\n",
    "df_case2 = pd.read_csv('/home/sathiesh/niftynet_brain/csv/brats/train_val_test/train_2.csv', header=None)\n",
    "df_case3 = pd.read_csv('/home/sathiesh/niftynet_brain/csv/brats/train_val_test/train_3.csv', header=None)\n",
    "df_case4 = pd.read_csv('/home/sathiesh/niftynet_brain/csv/brats/train_val_test/train_4.csv', header=None)\n",
    "studies = [df_case1, df_case2,df_case3,df_case4]"
   ]
  },
  {
   "cell_type": "code",
   "execution_count": 28,
   "metadata": {
    "collapsed": true
   },
   "outputs": [],
   "source": [
    "df_val = pd.read_csv('/home/sathiesh/niftynet_brain/csv/brats/train_val_test/val.csv', header=None)\n",
    "df_test = pd.read_csv('/home/sathiesh/niftynet_brain/csv/brats/train_val_test/test.csv', header=None)"
   ]
  },
  {
   "cell_type": "code",
   "execution_count": 29,
   "metadata": {
    "collapsed": true
   },
   "outputs": [],
   "source": [
    "def create_csv(studies, val, test):\n",
    "    for idx,study in enumerate(studies): \n",
    "        study[1] = 'training'\n",
    "        val[1] = 'validation'\n",
    "        test[1] = 'inference'\n",
    "        \n",
    "        df = pd.concat([study, val, test])\n",
    "        \n",
    "        t1 = df_t1.loc[df_t1[0].isin(df[0])].sort_values(by=[0])\n",
    "        t2 = df_t2.loc[df_t2[0].isin(df[0])].sort_values(by=[0])\n",
    "        labels = df_labels.loc[df_labels[0].isin(df[0])].sort_values(by=[0])\n",
    "        df = df.sort_values(by=[0])\n",
    "    \n",
    "        t1.to_csv(f'/home/sathiesh/niftynet_brain/csv/brats/study/case_{idx+1}/t1.csv', index=False,header=None)\n",
    "        t2.to_csv(f'/home/sathiesh/niftynet_brain/csv/brats/study/case_{idx+1}/t2.csv', index=False,header=None)\n",
    "        labels.to_csv(f'/home/sathiesh/niftynet_brain/csv/brats/study/case_{idx+1}/labels.csv', index=False,header=None)\n",
    "        \n",
    "        df.to_csv(f'/home/sathiesh/niftynet_brain/csv/brats/study/case_{idx+1}/dataset_split.csv', index=False,header=None)"
   ]
  },
  {
   "cell_type": "code",
   "execution_count": 30,
   "metadata": {
    "collapsed": true
   },
   "outputs": [],
   "source": [
    "create_csv(studies, df_val, df_test)"
   ]
  },
  {
   "cell_type": "code",
   "execution_count": null,
   "metadata": {
    "collapsed": true
   },
   "outputs": [],
   "source": []
  }
 ],
 "metadata": {
  "kernelspec": {
   "display_name": "fastai",
   "language": "python",
   "name": "dfastai"
  },
  "language_info": {
   "codemirror_mode": {
    "name": "ipython",
    "version": 3
   },
   "file_extension": ".py",
   "mimetype": "text/x-python",
   "name": "python",
   "nbconvert_exporter": "python",
   "pygments_lexer": "ipython3",
   "version": "3.6.6"
  }
 },
 "nbformat": 4,
 "nbformat_minor": 2
}
