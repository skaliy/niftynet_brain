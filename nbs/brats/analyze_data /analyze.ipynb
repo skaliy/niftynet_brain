{
 "cells": [
  {
   "cell_type": "code",
   "execution_count": 30,
   "metadata": {
    "collapsed": false
   },
   "outputs": [],
   "source": [
    "import sys, os\n",
    "import glob\n",
    "import csv\n",
    "from pathlib import Path\n",
    "import matplotlib.pyplot as plt\n",
    "import numpy as np\n",
    "import pandas as pd\n",
    "from utils import * \n",
    "import warnings\n",
    "warnings.filterwarnings('ignore')"
   ]
  },
  {
   "cell_type": "code",
   "execution_count": 56,
   "metadata": {
    "collapsed": true
   },
   "outputs": [],
   "source": [
    "subtype = 'LGG'"
   ]
  },
  {
   "cell_type": "code",
   "execution_count": 57,
   "metadata": {
    "collapsed": false
   },
   "outputs": [],
   "source": [
    "DATA = Path(f'/data-nas/brains/MICCAI_BraTS2018/interim/{subtype}')\n",
    "SAVE_PATH = %pwd\n",
    "SAVE_PATH = f'{SAVE_PATH}/saved_csv_files/'"
   ]
  },
  {
   "cell_type": "code",
   "execution_count": 58,
   "metadata": {
    "collapsed": true
   },
   "outputs": [],
   "source": [
    "studies_path = sorted(glob.glob(str(DATA)+'/*'))\n",
    "total_studies = len(studies_path)"
   ]
  },
  {
   "cell_type": "code",
   "execution_count": 59,
   "metadata": {
    "collapsed": false
   },
   "outputs": [],
   "source": [
    "def unique_values(studies_path):\n",
    " \n",
    "    count_values = {}\n",
    "    data_list = []\n",
    "    for path in studies_path:\n",
    "        study_id = (path.split(\"/\")[-1])\n",
    "        imgfn = (path + \"/\"+ study_id +\"_seg.nii.gz\")\n",
    "        \n",
    "        img, rnx, rny, rnz, data, affine = load_nifti(imgfn)\n",
    "        \n",
    "        #np_arr = np.unique(data) #unqiue values in a matrix \n",
    "        unique_arr, counts_arr = np.unique(data, return_counts=True)\n",
    "\n",
    "        for i in unique_arr: \n",
    "            if i in count_values: count_values[i] += 1 \n",
    "            else: count_values[i] = 1\n",
    "        data_list.append([unique_arr,counts_arr])\n",
    "                \n",
    "    return count_values, data_list"
   ]
  },
  {
   "cell_type": "code",
   "execution_count": 60,
   "metadata": {
    "collapsed": false
   },
   "outputs": [
    {
     "data": {
      "text/plain": [
       "{0: 75, 1: 75, 2: 74, 4: 48}"
      ]
     },
     "execution_count": 60,
     "metadata": {},
     "output_type": "execute_result"
    }
   ],
   "source": [
    "dic_classes, data_list = unique_values(studies_path)\n",
    "dic_classes"
   ]
  },
  {
   "cell_type": "code",
   "execution_count": 61,
   "metadata": {
    "collapsed": false
   },
   "outputs": [
    {
     "data": {
      "text/plain": [
       "array([8878076,   21279,   10787,   17858])"
      ]
     },
     "execution_count": 61,
     "metadata": {},
     "output_type": "execute_result"
    }
   ],
   "source": [
    "data_list[0][1]"
   ]
  },
  {
   "cell_type": "code",
   "execution_count": 62,
   "metadata": {
    "collapsed": false
   },
   "outputs": [],
   "source": [
    "info = []\n",
    "for img_info in data_list: \n",
    "    total_size = img_info[1].sum()\n",
    "    total = 0\n",
    "    save_info = {}\n",
    "    for idx,cls in enumerate(img_info[0]): \n",
    "        class_size = img_info[1][idx]\n",
    "        size_in_img = class_size/total_size\n",
    "        total += size_in_img\n",
    "        save_info[cls] = size_in_img\n",
    "    info.append(save_info)"
   ]
  },
  {
   "cell_type": "markdown",
   "metadata": {},
   "source": [
    "# Create stratified split files: TODO move"
   ]
  },
  {
   "cell_type": "code",
   "execution_count": 80,
   "metadata": {
    "collapsed": false
   },
   "outputs": [
    {
     "data": {
      "text/html": [
       "<div>\n",
       "<style>\n",
       "    .dataframe thead tr:only-child th {\n",
       "        text-align: right;\n",
       "    }\n",
       "\n",
       "    .dataframe thead th {\n",
       "        text-align: left;\n",
       "    }\n",
       "\n",
       "    .dataframe tbody tr th {\n",
       "        vertical-align: top;\n",
       "    }\n",
       "</style>\n",
       "<table border=\"1\" class=\"dataframe\">\n",
       "  <thead>\n",
       "    <tr style=\"text-align: right;\">\n",
       "      <th></th>\n",
       "      <th>0</th>\n",
       "      <th>1</th>\n",
       "      <th>2</th>\n",
       "      <th>4</th>\n",
       "      <th>file_path</th>\n",
       "    </tr>\n",
       "  </thead>\n",
       "  <tbody>\n",
       "    <tr>\n",
       "      <th>0</th>\n",
       "      <td>0.994408</td>\n",
       "      <td>0.002383</td>\n",
       "      <td>0.001208</td>\n",
       "      <td>0.002</td>\n",
       "      <td>/data-nas/brains/MICCAI_BraTS2018/interim/LGG/...</td>\n",
       "    </tr>\n",
       "    <tr>\n",
       "      <th>1</th>\n",
       "      <td>0.996590</td>\n",
       "      <td>0.000503</td>\n",
       "      <td>0.002907</td>\n",
       "      <td>NaN</td>\n",
       "      <td>/data-nas/brains/MICCAI_BraTS2018/interim/LGG/...</td>\n",
       "    </tr>\n",
       "    <tr>\n",
       "      <th>2</th>\n",
       "      <td>0.992820</td>\n",
       "      <td>0.000619</td>\n",
       "      <td>0.006562</td>\n",
       "      <td>NaN</td>\n",
       "      <td>/data-nas/brains/MICCAI_BraTS2018/interim/LGG/...</td>\n",
       "    </tr>\n",
       "    <tr>\n",
       "      <th>3</th>\n",
       "      <td>0.997884</td>\n",
       "      <td>0.001045</td>\n",
       "      <td>0.001071</td>\n",
       "      <td>NaN</td>\n",
       "      <td>/data-nas/brains/MICCAI_BraTS2018/interim/LGG/...</td>\n",
       "    </tr>\n",
       "    <tr>\n",
       "      <th>4</th>\n",
       "      <td>0.993084</td>\n",
       "      <td>0.004862</td>\n",
       "      <td>0.002054</td>\n",
       "      <td>NaN</td>\n",
       "      <td>/data-nas/brains/MICCAI_BraTS2018/interim/LGG/...</td>\n",
       "    </tr>\n",
       "  </tbody>\n",
       "</table>\n",
       "</div>"
      ],
      "text/plain": [
       "          0         1         2      4  \\\n",
       "0  0.994408  0.002383  0.001208  0.002   \n",
       "1  0.996590  0.000503  0.002907    NaN   \n",
       "2  0.992820  0.000619  0.006562    NaN   \n",
       "3  0.997884  0.001045  0.001071    NaN   \n",
       "4  0.993084  0.004862  0.002054    NaN   \n",
       "\n",
       "                                           file_path  \n",
       "0  /data-nas/brains/MICCAI_BraTS2018/interim/LGG/...  \n",
       "1  /data-nas/brains/MICCAI_BraTS2018/interim/LGG/...  \n",
       "2  /data-nas/brains/MICCAI_BraTS2018/interim/LGG/...  \n",
       "3  /data-nas/brains/MICCAI_BraTS2018/interim/LGG/...  \n",
       "4  /data-nas/brains/MICCAI_BraTS2018/interim/LGG/...  "
      ]
     },
     "execution_count": 80,
     "metadata": {},
     "output_type": "execute_result"
    }
   ],
   "source": [
    "df = pd.DataFrame(info)\n",
    "df['file_path'] = studies_path\n",
    "df.head()"
   ]
  },
  {
   "cell_type": "code",
   "execution_count": 64,
   "metadata": {
    "collapsed": false
   },
   "outputs": [
    {
     "data": {
      "image/png": "[encoded data removed]",
      "text/plain": [
       "<matplotlib.figure.Figure at 0x7f4f38a45860>"
      ]
     },
     "metadata": {},
     "output_type": "display_data"
    }
   ],
   "source": [
    "fig = plt.figure();\n",
    "data = df[0] # df[1]+df[4]\n",
    "box_plot = plt.boxplot(data, patch_artist=True)\n",
    "plt.xlabel('Tumor core', fontsize=15)\n",
    "plt.ylabel('Size', fontsize=15)\n",
    "colors = ['#8fbcda']\n",
    "for patch, color in zip(box_plot['boxes'], colors):\n",
    "    patch.set_facecolor(color)\n",
    "plt.show()"
   ]
  },
  {
   "cell_type": "markdown",
   "metadata": {},
   "source": [
    "# Check depth"
   ]
  },
  {
   "cell_type": "code",
   "execution_count": null,
   "metadata": {
    "collapsed": true
   },
   "outputs": [],
   "source": [
    "def img_depth(studies_path):\n",
    " \n",
    "    values = []\n",
    "    for path in studies_path:\n",
    "        study_id = (path.split(\"/\")[-1])\n",
    "        imgfn = (path + \"/\"+ study_id +\"_seg.nii.gz\")\n",
    "        \n",
    "        img, rnx, rny, rnz, data, affine = load_nifti(imgfn)\n",
    "        depth = data.shape[2]\n",
    "        values.append(depth)\n",
    "    return values"
   ]
  },
  {
   "cell_type": "code",
   "execution_count": null,
   "metadata": {
    "collapsed": true
   },
   "outputs": [],
   "source": [
    "depth_values = img_depth(studies_path)"
   ]
  },
  {
   "cell_type": "code",
   "execution_count": null,
   "metadata": {
    "collapsed": false
   },
   "outputs": [],
   "source": [
    "np.unique(depth_values, return_counts=True)"
   ]
  }
 ],
 "metadata": {
  "kernelspec": {
   "display_name": "Python [conda env:fastai]",
   "language": "python",
   "name": "conda-env-fastai-py"
  },
  "language_info": {
   "codemirror_mode": {
    "name": "ipython",
    "version": 3
   },
   "file_extension": ".py",
   "mimetype": "text/x-python",
   "name": "python",
   "nbconvert_exporter": "python",
   "pygments_lexer": "ipython3",
   "version": "3.6.2"
  }
 },
 "nbformat": 4,
 "nbformat_minor": 2
}
