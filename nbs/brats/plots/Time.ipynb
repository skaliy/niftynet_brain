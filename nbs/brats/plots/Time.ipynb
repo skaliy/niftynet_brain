{
 "cells": [
  {
   "cell_type": "code",
   "execution_count": 1,
   "metadata": {
    "collapsed": false
   },
   "outputs": [],
   "source": [
    "import numpy as np \n",
    "import pandas as pd \n",
    "import sys, os \n",
    "import csv \n",
    "import matplotlib.pyplot as plt\n",
    "import datetime"
   ]
  },
  {
   "cell_type": "markdown",
   "metadata": {},
   "source": [
    "# TODO reset for every study"
   ]
  },
  {
   "cell_type": "code",
   "execution_count": 3,
   "metadata": {
    "collapsed": false
   },
   "outputs": [
    {
     "data": {
      "text/plain": [
       "\"\\ndf_study1_0 = pd.read_csv('/home/sathiesh/data_study/study_1/layer0/training_niftynet_log.csv', header=None).dropna()\\ndf_study1_1 = pd.read_csv('/home/sathiesh/data_study/study_1/layer1/training_niftynet_log.csv', header=None).dropna()\\ndf_study1_2 = pd.read_csv('/home/sathiesh/data_study/study_1/layer2/training_niftynet_log.csv', header=None).dropna()\\ndf_study1_3 = pd.read_csv('/home/sathiesh/data_study/study_1/layer3/training_niftynet_log.csv', header=None).dropna()\\nstudy_list = [df_study1_0, df_study1_1, df_study1_2, df_study1_3]\""
      ]
     },
     "execution_count": 3,
     "metadata": {},
     "output_type": "execute_result"
    }
   ],
   "source": [
    "'''\n",
    "df_study1_0 = pd.read_csv('/home/sathiesh/data_study/study_1/layer0/training_niftynet_log.csv', header=None).dropna()\n",
    "df_study1_1 = pd.read_csv('/home/sathiesh/data_study/study_1/layer1/training_niftynet_log.csv', header=None).dropna()\n",
    "df_study1_2 = pd.read_csv('/home/sathiesh/data_study/study_1/layer2/training_niftynet_log.csv', header=None).dropna()\n",
    "df_study1_3 = pd.read_csv('/home/sathiesh/data_study/study_1/layer3/training_niftynet_log.csv', header=None).dropna()\n",
    "study_list = [df_study1_0, df_study1_1, df_study1_2, df_study1_3]'''"
   ]
  },
  {
   "cell_type": "code",
   "execution_count": 9,
   "metadata": {
    "collapsed": false
   },
   "outputs": [],
   "source": [
    "#STUDY2\n",
    "df_study1_0 = pd.read_csv('/home/sathiesh/training_niftynet_log_0.csv',header=None).dropna()\n",
    "df_study1_1 = pd.read_csv('/home/sathiesh/training_niftynet_log_1.csv',header=None).dropna()\n",
    "df_study1_2 = pd.read_csv('/home/sathiesh/data_study/study_2/layer2/training_niftynet_log.csv',header=None).dropna()\n",
    "df_study1_3 = pd.read_csv('/home/sathiesh/data_study/study_2/layer3/training_niftynet_log.csv',header=None).dropna()\n",
    "\n",
    "study_list = [df_study1_0, df_study1_1, df_study1_2, df_study1_3]\n",
    "\n",
    "\n",
    "#df_study1_0 = pd.read_csv('/home/sathiesh/data_study/study_2/layer0/training_niftynet_log.csv', header=None).dropna()\n",
    "#df_study1_1 = pd.read_csv('/home/sathiesh/data_study/study_2/layer1/training_niftynet_log.csv',header=None).dropna()"
   ]
  },
  {
   "cell_type": "code",
   "execution_count": 10,
   "metadata": {
    "collapsed": false
   },
   "outputs": [
    {
     "data": {
      "text/plain": [
       "\"\\ndf_study3_0 = pd.read_csv('/home/sathiesh/data_study/study_3/study3_niftynet_logs/layer0/training_niftynet_log.csv', header=None).dropna()\\ndf_study3_1 = pd.read_csv('/home/sathiesh/data_study/study_3/study3_niftynet_logs/layer1/training_niftynet_log.csv', header=None).dropna()\\ndf_study3_2 = pd.read_csv('/home/sathiesh/data_study/study_3/study3_niftynet_logs/layer2/training_niftynet_log.csv', header=None).dropna()\\ndf_study3_3 = pd.read_csv('/home/sathiesh/data_study/study_3/study3_niftynet_logs/layer3/training_niftynet_log.csv', header=None).dropna()\\nstudy_list = [df_study3_0, df_study3_1, df_study3_2, df_study3_3]\\n\""
      ]
     },
     "execution_count": 10,
     "metadata": {},
     "output_type": "execute_result"
    }
   ],
   "source": [
    "'''\n",
    "df_study3_0 = pd.read_csv('/home/sathiesh/data_study/study_3/study3_niftynet_logs/layer0/training_niftynet_log.csv', header=None).dropna()\n",
    "df_study3_1 = pd.read_csv('/home/sathiesh/data_study/study_3/study3_niftynet_logs/layer1/training_niftynet_log.csv', header=None).dropna()\n",
    "df_study3_2 = pd.read_csv('/home/sathiesh/data_study/study_3/study3_niftynet_logs/layer2/training_niftynet_log.csv', header=None).dropna()\n",
    "df_study3_3 = pd.read_csv('/home/sathiesh/data_study/study_3/study3_niftynet_logs/layer3/training_niftynet_log.csv', header=None).dropna()\n",
    "study_list = [df_study3_0, df_study3_1, df_study3_2, df_study3_3]\n",
    "'''"
   ]
  },
  {
   "cell_type": "code",
   "execution_count": 11,
   "metadata": {
    "collapsed": false
   },
   "outputs": [
    {
     "data": {
      "text/plain": [
       "\"\\ndf_study4_0 = pd.read_csv('/home/sathiesh/data_study/study_4/layer0/training_niftynet_log.csv', header=None).dropna()\\ndf_study4_1 = pd.read_csv('/home/sathiesh/data_study/study_4/layer1/training_niftynet_log.csv', header=None).dropna()\\ndf_study4_2 = pd.read_csv('/home/sathiesh/data_study/study_4/layer2/training_niftynet_log.csv', header=None).dropna()\\ndf_study4_3 = pd.read_csv('/home/sathiesh/data_study/study_4/layer3/training_niftynet_log.csv', header=None).dropna()\\nstudy_list = [df_study4_0, df_study4_1, df_study4_2, df_study4_3]\\n\""
      ]
     },
     "execution_count": 11,
     "metadata": {},
     "output_type": "execute_result"
    }
   ],
   "source": [
    "'''\n",
    "df_study4_0 = pd.read_csv('/home/sathiesh/data_study/study_4/layer0/training_niftynet_log.csv', header=None).dropna()\n",
    "df_study4_1 = pd.read_csv('/home/sathiesh/data_study/study_4/layer1/training_niftynet_log.csv', header=None).dropna()\n",
    "df_study4_2 = pd.read_csv('/home/sathiesh/data_study/study_4/layer2/training_niftynet_log.csv', header=None).dropna()\n",
    "df_study4_3 = pd.read_csv('/home/sathiesh/data_study/study_4/layer3/training_niftynet_log.csv', header=None).dropna()\n",
    "study_list = [df_study4_0, df_study4_1, df_study4_2, df_study4_3]\n",
    "'''"
   ]
  },
  {
   "cell_type": "code",
   "execution_count": 12,
   "metadata": {
    "collapsed": false
   },
   "outputs": [],
   "source": [
    "#Used to check that df is loaded correctly\n",
    "#df_study1_3.head()"
   ]
  },
  {
   "cell_type": "code",
   "execution_count": 13,
   "metadata": {
    "collapsed": false
   },
   "outputs": [
    {
     "name": "stdout",
     "output_type": "stream",
     "text": [
      "(532, 6)\n",
      "(500, 6)\n",
      "(4999, 6)\n",
      "(5000, 6)\n"
     ]
    }
   ],
   "source": [
    "for i in study_list: \n",
    "    print(i.shape)"
   ]
  },
  {
   "cell_type": "code",
   "execution_count": 14,
   "metadata": {
    "collapsed": false
   },
   "outputs": [
    {
     "name": "stdout",
     "output_type": "stream",
     "text": [
      "STUDY1\n",
      "0: 2:15:17.611438\n",
      "1: 1:08:11.359109\n",
      "2: 0:59:39.297010\n",
      "3: 0:59:20.322237\n"
     ]
    }
   ],
   "source": [
    "print(\"STUDY1\")\n",
    "idx = 0\n",
    "for i in study_list:\n",
    "    seconds = np.sum(np.array(i[5]))\n",
    "    if(idx == 0): \n",
    "        seconds = np.array(i[5])[0:500]*2\n",
    "        seconds = np.sum(seconds) # for å finne for case 2 \n",
    "    else: \n",
    "        seconds = np.array(i[5])[0:500]\n",
    "        seconds = np.sum(seconds)\n",
    "        \n",
    "    time = str(datetime.timedelta(seconds=seconds))\n",
    "    print(str(idx)+': '+time)\n",
    "    idx = idx+1"
   ]
  },
  {
   "cell_type": "code",
   "execution_count": null,
   "metadata": {
    "collapsed": true
   },
   "outputs": [],
   "source": []
  },
  {
   "cell_type": "code",
   "execution_count": null,
   "metadata": {
    "collapsed": true
   },
   "outputs": [],
   "source": []
  }
 ],
 "metadata": {
  "kernelspec": {
   "display_name": "Python [conda env:fastai]",
   "language": "python",
   "name": "conda-env-fastai-py"
  },
  "language_info": {
   "codemirror_mode": {
    "name": "ipython",
    "version": 3
   },
   "file_extension": ".py",
   "mimetype": "text/x-python",
   "name": "python",
   "nbconvert_exporter": "python",
   "pygments_lexer": "ipython3",
   "version": "3.6.6"
  }
 },
 "nbformat": 4,
 "nbformat_minor": 2
}
