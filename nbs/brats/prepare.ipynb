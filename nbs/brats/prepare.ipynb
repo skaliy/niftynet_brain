{
 "cells": [
  {
   "cell_type": "code",
   "execution_count": 40,
   "metadata": {},
   "outputs": [],
   "source": [
    "import numpy as np\n",
    "import pandas as pd\n",
    "import sys, os\n",
    "import glob\n",
    "from pprint import pprint\n",
    "import csv"
   ]
  },
  {
   "cell_type": "code",
   "execution_count": 41,
   "metadata": {},
   "outputs": [
    {
     "data": {
      "text/html": [
       "<div>\n",
       "<style scoped>\n",
       "    .dataframe tbody tr th:only-of-type {\n",
       "        vertical-align: middle;\n",
       "    }\n",
       "\n",
       "    .dataframe tbody tr th {\n",
       "        vertical-align: top;\n",
       "    }\n",
       "\n",
       "    .dataframe thead th {\n",
       "        text-align: right;\n",
       "    }\n",
       "</style>\n",
       "<table border=\"1\" class=\"dataframe\">\n",
       "  <thead>\n",
       "    <tr style=\"text-align: right;\">\n",
       "      <th></th>\n",
       "      <th>BraTS18ID</th>\n",
       "      <th>Age</th>\n",
       "      <th>Survival</th>\n",
       "      <th>ResectionStatus</th>\n",
       "    </tr>\n",
       "  </thead>\n",
       "  <tbody>\n",
       "    <tr>\n",
       "      <th>0</th>\n",
       "      <td>Brats18_TCIA08_167_1</td>\n",
       "      <td>74.907</td>\n",
       "      <td>153</td>\n",
       "      <td>NaN</td>\n",
       "    </tr>\n",
       "    <tr>\n",
       "      <th>1</th>\n",
       "      <td>Brats18_TCIA08_242_1</td>\n",
       "      <td>66.479</td>\n",
       "      <td>147</td>\n",
       "      <td>NaN</td>\n",
       "    </tr>\n",
       "    <tr>\n",
       "      <th>2</th>\n",
       "      <td>Brats18_TCIA08_319_1</td>\n",
       "      <td>64.860</td>\n",
       "      <td>254</td>\n",
       "      <td>NaN</td>\n",
       "    </tr>\n",
       "    <tr>\n",
       "      <th>3</th>\n",
       "      <td>Brats18_TCIA08_469_1</td>\n",
       "      <td>63.899</td>\n",
       "      <td>519</td>\n",
       "      <td>NaN</td>\n",
       "    </tr>\n",
       "    <tr>\n",
       "      <th>4</th>\n",
       "      <td>Brats18_TCIA08_218_1</td>\n",
       "      <td>57.345</td>\n",
       "      <td>346</td>\n",
       "      <td>NaN</td>\n",
       "    </tr>\n",
       "  </tbody>\n",
       "</table>\n",
       "</div>"
      ],
      "text/plain": [
       "              BraTS18ID     Age  Survival ResectionStatus\n",
       "0  Brats18_TCIA08_167_1  74.907       153             NaN\n",
       "1  Brats18_TCIA08_242_1  66.479       147             NaN\n",
       "2  Brats18_TCIA08_319_1  64.860       254             NaN\n",
       "3  Brats18_TCIA08_469_1  63.899       519             NaN\n",
       "4  Brats18_TCIA08_218_1  57.345       346             NaN"
      ]
     },
     "execution_count": 41,
     "metadata": {},
     "output_type": "execute_result"
    }
   ],
   "source": [
    "df_train_image_paths = pd.read_csv('/data-nas/brains/MICCAI_BraTS2018/interim/survival_data.csv')\n",
    "df_train_image_paths.head()"
   ]
  },
  {
   "cell_type": "code",
   "execution_count": 42,
   "metadata": {},
   "outputs": [],
   "source": [
    "NB_DIR = %pwd\n",
    "NB_DIR = Path(NB_DIR)\n",
    "subtype = 'HGG' #change this if error \n",
    "image = 't1'"
   ]
  },
  {
   "cell_type": "code",
   "execution_count": 43,
   "metadata": {},
   "outputs": [],
   "source": [
    "DATA = Path(f'/data-nas/brains/MICCAI_BraTS2018/interim/{subtype}')"
   ]
  },
  {
   "cell_type": "code",
   "execution_count": 44,
   "metadata": {},
   "outputs": [],
   "source": [
    "studies_path = sorted(glob.glob(str(DATA)+'/*'))#/home/sathiesh/BRAT18/HGG/Brats18_2013_10_1"
   ]
  },
  {
   "cell_type": "code",
   "execution_count": 45,
   "metadata": {},
   "outputs": [
    {
     "data": {
      "text/plain": [
       "210"
      ]
     },
     "execution_count": 45,
     "metadata": {},
     "output_type": "execute_result"
    }
   ],
   "source": [
    "len(studies_path)"
   ]
  },
  {
   "cell_type": "code",
   "execution_count": 46,
   "metadata": {},
   "outputs": [
    {
     "data": {
      "text/plain": [
       "['/data-nas/brains/MICCAI_BraTS2018/interim/HGG/Brats18_2013_10_1',\n",
       " '/data-nas/brains/MICCAI_BraTS2018/interim/HGG/Brats18_2013_11_1',\n",
       " '/data-nas/brains/MICCAI_BraTS2018/interim/HGG/Brats18_2013_12_1',\n",
       " '/data-nas/brains/MICCAI_BraTS2018/interim/HGG/Brats18_2013_13_1',\n",
       " '/data-nas/brains/MICCAI_BraTS2018/interim/HGG/Brats18_2013_14_1']"
      ]
     },
     "execution_count": 46,
     "metadata": {},
     "output_type": "execute_result"
    }
   ],
   "source": [
    "studies_path[:5]"
   ]
  },
  {
   "cell_type": "code",
   "execution_count": 47,
   "metadata": {},
   "outputs": [],
   "source": [
    "studies_id = [s.split(\"/\")[-1] for s in studies_path] #Brats18_2013_10_1"
   ]
  },
  {
   "cell_type": "code",
   "execution_count": 48,
   "metadata": {},
   "outputs": [
    {
     "data": {
      "text/plain": [
       "['Brats18_2013_10_1', 'Brats18_2013_11_1']"
      ]
     },
     "execution_count": 48,
     "metadata": {},
     "output_type": "execute_result"
    }
   ],
   "source": [
    "studies_id[:2]"
   ]
  },
  {
   "cell_type": "markdown",
   "metadata": {},
   "source": [
    "# Create CSV "
   ]
  },
  {
   "cell_type": "code",
   "execution_count": 49,
   "metadata": {},
   "outputs": [],
   "source": [
    "CSV_PATH = NB_DIR/'../../csv/brats/interim'\n",
    "CSV_PATH.mkdir(exist_ok=True)"
   ]
  },
  {
   "cell_type": "code",
   "execution_count": 50,
   "metadata": {},
   "outputs": [],
   "source": [
    "def create_niftynet_csv(dataset, studies_id, outputdir=CSV_PATH):\n",
    "    \"\"\"\n",
    "    Input: \n",
    "        dataset: path to a folder containing studies with labelled data\n",
    "    Output:\n",
    "        - One CSV containing \"ID, original image\" for all studies\n",
    "        - One CSV containing \"ID, brain image\" for all studies\n",
    "        - Multiple CSVs, one for each label type (aseg, aparc+aseg, ribbon, etc)\n",
    "    \"\"\"\n",
    "            \n",
    "    # Create data CSVs\n",
    "    \n",
    "    for fn in ['seg.nii.gz', f'{image}.nii.gz']:\n",
    "        images_studies = [f\"{f}/{f.split('/')[-1]}_{fn}\" for f in dataset]\n",
    "        data = list(zip(studies_id, images_studies))\n",
    "        \n",
    "        datafn = f'{outputdir}/{fn.split(\".\")[0]}_{subtype}.csv'\n",
    "        \n",
    "        with open(datafn,'w') as out:\n",
    "            csv_out=csv.writer(out)\n",
    "            #csv_out.writerow(['ID','location'])\n",
    "            for row in data:\n",
    "                csv_out.writerow(row)\n",
    "            print(f'{datafn} created')"
   ]
  },
  {
   "cell_type": "code",
   "execution_count": 51,
   "metadata": {},
   "outputs": [
    {
     "name": "stdout",
     "output_type": "stream",
     "text": [
      "/home/sathiesh/niftynet_brain/nbs/brats/../../csv/brats/interim/seg_HGG.csv created\n",
      "/home/sathiesh/niftynet_brain/nbs/brats/../../csv/brats/interim/t1_HGG.csv created\n"
     ]
    }
   ],
   "source": [
    "create_niftynet_csv(studies_path, studies_id)"
   ]
  },
  {
   "cell_type": "markdown",
   "metadata": {},
   "source": [
    "# Concatenate HGG.csv and LGG.csv"
   ]
  },
  {
   "cell_type": "code",
   "execution_count": null,
   "metadata": {},
   "outputs": [],
   "source": [
    "#check if interim file contains hgg and lgg files"
   ]
  },
  {
   "cell_type": "code",
   "execution_count": null,
   "metadata": {},
   "outputs": [],
   "source": [
    "def concate_df(subtypes, new_filename): \n",
    "    df_arr = []\n",
    "    for filename in subtypes: \n",
    "        df_arr.append(pd.read_csv(f'{CSV_PATH}/{filename}', header=None))\n",
    "    \n",
    "    df = pd.concat(df_arr, ignore_index=True)\n",
    "    df.to_csv(f'{CSV_PATH}/../{new_filename}', index=False, header=None)"
   ]
  },
  {
   "cell_type": "code",
   "execution_count": null,
   "metadata": {},
   "outputs": [],
   "source": [
    "subtypes = [f'{image}_HGG.csv',f'{image}_LGG.csv']\n",
    "new_filename = f'orig_{image}.csv'\n",
    "concate_df(subtypes, new_filename)"
   ]
  },
  {
   "cell_type": "code",
   "execution_count": null,
   "metadata": {},
   "outputs": [],
   "source": [
    "subtypes = ['seg_HGG.csv','seg_LGG.csv']\n",
    "new_filename = 'labels.csv'\n",
    "concate_df(subtypes, new_filename)"
   ]
  },
  {
   "cell_type": "code",
   "execution_count": null,
   "metadata": {},
   "outputs": [],
   "source": []
  }
 ],
 "metadata": {
  "kernelspec": {
   "display_name": "fastai",
   "language": "python",
   "name": "dfastai"
  },
  "language_info": {
   "codemirror_mode": {
    "name": "ipython",
    "version": 3
   },
   "file_extension": ".py",
   "mimetype": "text/x-python",
   "name": "python",
   "nbconvert_exporter": "python",
   "pygments_lexer": "ipython3",
   "version": "3.6.6"
  }
 },
 "nbformat": 4,
 "nbformat_minor": 2
}
