{
 "cells": [
  {
   "cell_type": "code",
   "execution_count": 54,
   "metadata": {},
   "outputs": [],
   "source": [
    "import numpy as np\n",
    "import pandas as pd\n",
    "import sys, os\n",
    "import glob\n",
    "from pprint import pprint\n",
    "import csv"
   ]
  },
  {
   "cell_type": "code",
   "execution_count": 55,
   "metadata": {},
   "outputs": [],
   "source": [
    "import nibabel as nib\n",
    "from nilearn import image, plotting"
   ]
  },
  {
   "cell_type": "code",
   "execution_count": 56,
   "metadata": {},
   "outputs": [],
   "source": [
    "from pathlib import Path"
   ]
  },
  {
   "cell_type": "code",
   "execution_count": 27,
   "metadata": {},
   "outputs": [],
   "source": [
    "NB_DIR = %pwd\n",
    "NB_DIR = Path(NB_DIR)\n",
    "subtype = 'LGG' #change this if error \n",
    "image = 't2'"
   ]
  },
  {
   "cell_type": "code",
   "execution_count": 28,
   "metadata": {},
   "outputs": [],
   "source": [
    "DATA = Path('/data-nas/brains/MICCAI_BraTS2018/interim/'+subtype)"
   ]
  },
  {
   "cell_type": "code",
   "execution_count": 29,
   "metadata": {},
   "outputs": [],
   "source": [
    "studies_path = sorted(glob.glob(str(DATA)+'/*'))#/home/sathiesh/BRAT18/HGG/Brats18_2013_10_1"
   ]
  },
  {
   "cell_type": "code",
   "execution_count": 30,
   "metadata": {},
   "outputs": [
    {
     "data": {
      "text/plain": [
       "75"
      ]
     },
     "execution_count": 30,
     "metadata": {},
     "output_type": "execute_result"
    }
   ],
   "source": [
    "len(studies_path)"
   ]
  },
  {
   "cell_type": "code",
   "execution_count": 31,
   "metadata": {},
   "outputs": [],
   "source": [
    "names_studies = [s.split(\"/\")[-1] for s in studies_path] #Brats18_2013_10_1"
   ]
  },
  {
   "cell_type": "code",
   "execution_count": 32,
   "metadata": {},
   "outputs": [
    {
     "data": {
      "text/html": [
       "<div>\n",
       "<style scoped>\n",
       "    .dataframe tbody tr th:only-of-type {\n",
       "        vertical-align: middle;\n",
       "    }\n",
       "\n",
       "    .dataframe tbody tr th {\n",
       "        vertical-align: top;\n",
       "    }\n",
       "\n",
       "    .dataframe thead th {\n",
       "        text-align: right;\n",
       "    }\n",
       "</style>\n",
       "<table border=\"1\" class=\"dataframe\">\n",
       "  <thead>\n",
       "    <tr style=\"text-align: right;\">\n",
       "      <th></th>\n",
       "      <th>BraTS18ID</th>\n",
       "      <th>Age</th>\n",
       "      <th>ResectionStatus</th>\n",
       "    </tr>\n",
       "  </thead>\n",
       "  <tbody>\n",
       "    <tr>\n",
       "      <th>0</th>\n",
       "      <td>Brats18_MDA_1012_1</td>\n",
       "      <td>49.0</td>\n",
       "      <td>GTR</td>\n",
       "    </tr>\n",
       "    <tr>\n",
       "      <th>1</th>\n",
       "      <td>Brats18_MDA_1015_1</td>\n",
       "      <td>58.0</td>\n",
       "      <td>GTR</td>\n",
       "    </tr>\n",
       "    <tr>\n",
       "      <th>2</th>\n",
       "      <td>Brats18_MDA_1081_1</td>\n",
       "      <td>27.0</td>\n",
       "      <td>GTR</td>\n",
       "    </tr>\n",
       "    <tr>\n",
       "      <th>3</th>\n",
       "      <td>Brats18_MDA_907_1</td>\n",
       "      <td>64.0</td>\n",
       "      <td>GTR</td>\n",
       "    </tr>\n",
       "    <tr>\n",
       "      <th>4</th>\n",
       "      <td>Brats18_MDA_922_1</td>\n",
       "      <td>57.0</td>\n",
       "      <td>GTR</td>\n",
       "    </tr>\n",
       "  </tbody>\n",
       "</table>\n",
       "</div>"
      ],
      "text/plain": [
       "            BraTS18ID   Age ResectionStatus\n",
       "0  Brats18_MDA_1012_1  49.0             GTR\n",
       "1  Brats18_MDA_1015_1  58.0             GTR\n",
       "2  Brats18_MDA_1081_1  27.0             GTR\n",
       "3   Brats18_MDA_907_1  64.0             GTR\n",
       "4   Brats18_MDA_922_1  57.0             GTR"
      ]
     },
     "execution_count": 32,
     "metadata": {},
     "output_type": "execute_result"
    }
   ],
   "source": [
    "df_train_image_paths = pd.read_csv('/data-nas/brains/MICCAI_BraTS2018/interim/csv/val_survival_evaluation.csv')\n",
    "df_train_image_paths.head()"
   ]
  },
  {
   "cell_type": "code",
   "execution_count": 33,
   "metadata": {},
   "outputs": [],
   "source": [
    "def rename_files(fns, new_name): \n",
    "    for index, file_path in enumerate(fns): \n",
    "        new_file = os.path.join(studies_path[index], new_name)\n",
    "        os.rename(file_path, new_file)"
   ]
  },
  {
   "cell_type": "code",
   "execution_count": 34,
   "metadata": {},
   "outputs": [],
   "source": [
    "#Rename data\n",
    "fns = glob.glob(str(DATA) + f'/*/*{image}.nii.gz')\n",
    "rename_files(fns, f'orig{image}.nii.gz')"
   ]
  },
  {
   "cell_type": "code",
   "execution_count": 35,
   "metadata": {},
   "outputs": [],
   "source": [
    "#Rename labels\n",
    "fns = glob.glob(str(DATA) + '/*/*seg.nii.gz')\n",
    "rename_files(fns, \"brain.nii.gz\")"
   ]
  },
  {
   "cell_type": "code",
   "execution_count": 36,
   "metadata": {},
   "outputs": [
    {
     "data": {
      "text/plain": [
       "['/data-nas/brains/MICCAI_BraTS2018/interim/LGG/Brats18_2013_0_1/brain.nii.gz',\n",
       " '/data-nas/brains/MICCAI_BraTS2018/interim/LGG/Brats18_2013_15_1/brain.nii.gz']"
      ]
     },
     "execution_count": 36,
     "metadata": {},
     "output_type": "execute_result"
    }
   ],
   "source": [
    "brains_fns = glob.glob(str(DATA) + '/*/brain.nii.gz') #finner alle pathene som matcher stringen\n",
    "brains_fns[:2]"
   ]
  },
  {
   "cell_type": "code",
   "execution_count": 37,
   "metadata": {},
   "outputs": [
    {
     "data": {
      "text/plain": [
       "75"
      ]
     },
     "execution_count": 37,
     "metadata": {},
     "output_type": "execute_result"
    }
   ],
   "source": [
    "len(brains_fns)"
   ]
  },
  {
   "cell_type": "code",
   "execution_count": 38,
   "metadata": {},
   "outputs": [
    {
     "data": {
      "text/plain": [
       "['Brats18_2013_0_1_brain.nii.gz',\n",
       " 'Brats18_2013_15_1_brain.nii.gz',\n",
       " 'Brats18_2013_16_1_brain.nii.gz',\n",
       " 'Brats18_2013_1_1_brain.nii.gz',\n",
       " 'Brats18_2013_24_1_brain.nii.gz']"
      ]
     },
     "execution_count": 38,
     "metadata": {},
     "output_type": "execute_result"
    }
   ],
   "source": [
    "brains = [\"_\".join(fn.split('/')[-2:]) for fn in brains_fns] #concat strings \n",
    "brains[:5] # 'CMU_b_0050648_brain.nii.gz'"
   ]
  },
  {
   "cell_type": "code",
   "execution_count": 39,
   "metadata": {},
   "outputs": [],
   "source": [
    "from utils import write_nifti, load_nifti"
   ]
  },
  {
   "cell_type": "code",
   "execution_count": 40,
   "metadata": {},
   "outputs": [],
   "source": [
    "def binarize_mask(imgfn, store=True, verbose=False): #verbose om ting skal logges eller ikke\n",
    "    \"\"\"\n",
    "    Input: a nifti image\n",
    "    Output: a binary nifti image. Stored at the same location if store=True.\n",
    "    \"\"\"\n",
    "    infn = imgfn.split(\"/\")[-1]\n",
    "    outdir = \"/\".join(imgfn.split(\"/\")[:-1])\n",
    "    \n",
    "    outfn = outdir + '/binary_' + infn\n",
    "    \n",
    "    img, rnx, rny, rnz, data, affine = load_nifti(imgfn)\n",
    "    \n",
    "    if verbose: print(f'Number of unique regions in input img: {len(np.unique(data))}')\n",
    "    \n",
    "    new_data = np.where(data>0, 1, 0).astype('uint8')\n",
    "    \n",
    "    if verbose: print(f'Number of unique regions in output img: {len(np.unique(new_data))}')\n",
    "    \n",
    "    write_nifti(new_data, affine, outfn)\n",
    "    \n",
    "    if verbose: print(f'Result saved in {outfn}')\n",
    "    \n",
    "    return new_data"
   ]
  },
  {
   "cell_type": "code",
   "execution_count": 41,
   "metadata": {},
   "outputs": [],
   "source": [
    "from concurrent.futures import ThreadPoolExecutor"
   ]
  },
  {
   "cell_type": "code",
   "execution_count": 42,
   "metadata": {},
   "outputs": [
    {
     "name": "stderr",
     "output_type": "stream",
     "text": [
      "/home/sathiesh/anaconda3/lib/python3.6/site-packages/nibabel/nifti1.py:582: DeprecationWarning: The binary mode of fromstring is deprecated, as it behaves surprisingly on unicode inputs. Use frombuffer instead\n",
      "  ext_def = np.fromstring(ext_def, dtype=np.int32)\n"
     ]
    }
   ],
   "source": [
    "with ThreadPoolExecutor(14) as e: \n",
    "    e.map(binarize_mask, brains_fns)  #TODO hvorfor satt til 14"
   ]
  },
  {
   "cell_type": "markdown",
   "metadata": {},
   "source": [
    "# Normalize images"
   ]
  },
  {
   "cell_type": "code",
   "execution_count": 43,
   "metadata": {},
   "outputs": [],
   "source": [
    "def standardize_img(in_img):\n",
    "    '''\n",
    "    Input: in_img  - numpy ndarray \n",
    "    Output: out_img  - numpy ndarray with zero mean and unit variance\n",
    "    '''\n",
    "    out_img = (in_img - np.mean(in_img)) / np.std(in_img)\n",
    "    return out_img"
   ]
  },
  {
   "cell_type": "code",
   "execution_count": 44,
   "metadata": {},
   "outputs": [
    {
     "name": "stderr",
     "output_type": "stream",
     "text": [
      "/home/sathiesh/anaconda3/lib/python3.6/site-packages/nibabel/nifti1.py:582: DeprecationWarning: The binary mode of fromstring is deprecated, as it behaves surprisingly on unicode inputs. Use frombuffer instead\n",
      "  ext_def = np.fromstring(ext_def, dtype=np.int32)\n"
     ]
    }
   ],
   "source": [
    "images = glob.glob(str(DATA) + f'/*/*{image}.nii.gz')\n",
    "\n",
    "for img in images:\n",
    "    img_dir = \"/\".join(img.split(\"/\")[:-1])\n",
    "    img_fn = \".\".join(img.split(\"/\")[-1].split(\".\")[:-2])\n",
    "        \n",
    "    out_fn = img_fn + \"_std.nii.gz\"\n",
    "\n",
    "    save_fn = img_dir + \"/\" + out_fn\n",
    "    \n",
    "    if Path(save_fn).is_file():\n",
    "        print(f\"{out_fn} and the rest already processed?\")\n",
    "        break\n",
    "    \n",
    "    else:\n",
    "        rfunc, rnx, rny, rnz, data, affine = load_nifti(img)\n",
    "\n",
    "        out_data = standardize_img(data)\n",
    "\n",
    "        write_nifti(out_data, affine, save_fn)"
   ]
  },
  {
   "cell_type": "code",
   "execution_count": 45,
   "metadata": {},
   "outputs": [
    {
     "data": {
      "text/plain": [
       "75"
      ]
     },
     "execution_count": 45,
     "metadata": {},
     "output_type": "execute_result"
    }
   ],
   "source": [
    "len(images)"
   ]
  },
  {
   "cell_type": "markdown",
   "metadata": {},
   "source": [
    "# Create CSV "
   ]
  },
  {
   "cell_type": "code",
   "execution_count": 46,
   "metadata": {},
   "outputs": [],
   "source": [
    "CSV_PATH = NB_DIR/'../../csv/brats/interim'\n",
    "CSV_PATH.mkdir(exist_ok=True)"
   ]
  },
  {
   "cell_type": "code",
   "execution_count": 47,
   "metadata": {},
   "outputs": [],
   "source": [
    "masks = ['binary_brain.nii.gz']"
   ]
  },
  {
   "cell_type": "code",
   "execution_count": 48,
   "metadata": {},
   "outputs": [],
   "source": [
    "def create_niftynet_csv(dataset, masks=masks, outputdir=CSV_PATH):\n",
    "    \"\"\"\n",
    "    Input: \n",
    "        dataset: path to a folder containing studies with labelled data\n",
    "        masks: a list of masks to use\n",
    "    Output:\n",
    "        - One CSV containing \"ID, original image\" for all studies\n",
    "        - One CSV containing \"ID, brain image\" for all studies\n",
    "        - Multiple CSVs, one for each label type (aseg, aparc+aseg, ribbon, etc)\n",
    "    \"\"\"\n",
    "    \n",
    "    # Create label CSVs\n",
    "    \n",
    "    for m in masks:\n",
    "        masks_studies =[f\"{f}/{m}\" for f in dataset]\n",
    "\n",
    "        labels = list(zip(names_studies, masks_studies))\n",
    "     \n",
    "        labelsfn = f'{outputdir}/{m.split(\".\")[0]}_labels_{subtype}.csv'\n",
    "    \n",
    "        with open(labelsfn,'w') as out:\n",
    "            csv_out=csv.writer(out)\n",
    "            #csv_out.writerow(['ID','location'])\n",
    "            for row in labels:\n",
    "                csv_out.writerow(row)\n",
    "            print(f'{labelsfn} created')\n",
    "            \n",
    "    # Create data CSVs\n",
    "    \n",
    "    for fn in ['brain.nii.gz', f'orig{image}_std.nii.gz']:\n",
    "        images_studies = [f\"{f}/{fn}\" for f in dataset]\n",
    "        data = list(zip(names_studies, images_studies))\n",
    "        \n",
    "        datafn = f'{outputdir}/{fn.split(\".\")[0]}_{subtype}.csv'\n",
    "        \n",
    "        with open(datafn,'w') as out:\n",
    "            csv_out=csv.writer(out)\n",
    "            #csv_out.writerow(['ID','location'])\n",
    "            for row in data:\n",
    "                csv_out.writerow(row)\n",
    "            print(f'{datafn} created')"
   ]
  },
  {
   "cell_type": "code",
   "execution_count": 49,
   "metadata": {},
   "outputs": [
    {
     "name": "stdout",
     "output_type": "stream",
     "text": [
      "/home/sathiesh/niftynet_brain/nbs/brats/../../csv/brats/interim/binary_brain_labels_LGG.csv created\n",
      "/home/sathiesh/niftynet_brain/nbs/brats/../../csv/brats/interim/brain_LGG.csv created\n",
      "/home/sathiesh/niftynet_brain/nbs/brats/../../csv/brats/interim/origt2_std_LGG.csv created\n"
     ]
    }
   ],
   "source": [
    "create_niftynet_csv(studies_path)"
   ]
  },
  {
   "cell_type": "markdown",
   "metadata": {},
   "source": [
    "# Concatenate HGG.csv and LGG.csv"
   ]
  },
  {
   "cell_type": "code",
   "execution_count": 50,
   "metadata": {},
   "outputs": [],
   "source": [
    "#check if interim file contains hgg and lgg files"
   ]
  },
  {
   "cell_type": "code",
   "execution_count": 51,
   "metadata": {},
   "outputs": [],
   "source": [
    "def concate_df(subtypes, new_filename): \n",
    "    df_arr = []\n",
    "    for filename in subtypes: \n",
    "        df_arr.append(pd.read_csv(f'{CSV_PATH}/{filename}', header=None))\n",
    "    \n",
    "    df = pd.concat(df_arr, ignore_index=True)\n",
    "    df.to_csv(f'{CSV_PATH}/../{new_filename}', index=False, header=None)"
   ]
  },
  {
   "cell_type": "code",
   "execution_count": 52,
   "metadata": {},
   "outputs": [],
   "source": [
    "subtypes = [f'orig{image}_std_HGG.csv',f'orig{image}_std_LGG.csv']\n",
    "new_filename = f'orig_{image}.csv'\n",
    "concate_df(subtypes, new_filename)"
   ]
  },
  {
   "cell_type": "code",
   "execution_count": 59,
   "metadata": {},
   "outputs": [],
   "source": [
    "subtypes = ['brain_HGG.csv','brain_LGG.csv']\n",
    "new_filename = 'labels.csv'\n",
    "concate_df(subtypes, new_filename)"
   ]
  },
  {
   "cell_type": "code",
   "execution_count": null,
   "metadata": {},
   "outputs": [],
   "source": []
  }
 ],
 "metadata": {
  "kernelspec": {
   "display_name": "Python 3",
   "language": "python",
   "name": "python3"
  },
  "language_info": {
   "codemirror_mode": {
    "name": "ipython",
    "version": 3
   },
   "file_extension": ".py",
   "mimetype": "text/x-python",
   "name": "python",
   "nbconvert_exporter": "python",
   "pygments_lexer": "ipython3",
   "version": "3.6.5"
  }
 },
 "nbformat": 4,
 "nbformat_minor": 2
}
