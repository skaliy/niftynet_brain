{
 "cells": [
  {
   "cell_type": "code",
   "execution_count": 31,
   "metadata": {
    "collapsed": true
   },
   "outputs": [],
   "source": [
    "import numpy as np\n",
    "import pandas as pd\n",
    "import sys, os\n",
    "import glob\n",
    "from pprint import pprint\n",
    "import csv\n",
    "from collections import Counter"
   ]
  },
  {
   "cell_type": "markdown",
   "metadata": {},
   "source": [
    "# Create train val and test set "
   ]
  },
  {
   "cell_type": "code",
   "execution_count": 32,
   "metadata": {
    "collapsed": false
   },
   "outputs": [],
   "source": [
    "df_HGG_above = pd.read_csv('/home/sathiesh/niftynet_brain/csv/brats/stratified_split/HGG_above_median.csv', header=None)\n",
    "df_HGG_below = pd.read_csv('/home/sathiesh/niftynet_brain/csv/brats/stratified_split/HGG_below_median.csv', header=None)"
   ]
  },
  {
   "cell_type": "code",
   "execution_count": 33,
   "metadata": {
    "collapsed": true
   },
   "outputs": [],
   "source": [
    "df_LGG_above = pd.read_csv('/home/sathiesh/niftynet_brain/csv/brats/stratified_split/LGG_above_median.csv', header=None)\n",
    "df_LGG_below = pd.read_csv('/home/sathiesh/niftynet_brain/csv/brats/stratified_split/LGG_below_median.csv', header=None)"
   ]
  },
  {
   "cell_type": "code",
   "execution_count": 34,
   "metadata": {
    "collapsed": true
   },
   "outputs": [],
   "source": [
    "def split_data(df): \n",
    "    val_test = df.sample(frac=0.3)\n",
    "    df_train = df.loc[~df.index.isin(val_test.index)][0]\n",
    "    \n",
    "    df_val = val_test.sample(frac=0.5)\n",
    "    df_test = val_test.loc[~val_test.index.isin(df_val.index)]\n",
    "    return df_train, df_val, df_test"
   ]
  },
  {
   "cell_type": "code",
   "execution_count": 35,
   "metadata": {
    "collapsed": true
   },
   "outputs": [],
   "source": [
    "train_0, val_0, test_0 = split_data(df_HGG_above)\n",
    "train_1, val_1, test_1 = split_data(df_HGG_below)\n",
    "train_2, val_2, test_2 = split_data(df_LGG_above)\n",
    "train_3, val_3, test_3 = split_data(df_LGG_below)"
   ]
  },
  {
   "cell_type": "code",
   "execution_count": 36,
   "metadata": {
    "collapsed": false
   },
   "outputs": [],
   "source": [
    "df_train = pd.concat([train_0, train_1, train_2,train_3])\n",
    "df_val = pd.concat([val_0, val_1, val_2,val_3])\n",
    "df_test = pd.concat([test_0, test_1, test_2, test_3])"
   ]
  },
  {
   "cell_type": "markdown",
   "metadata": {},
   "source": [
    "# Create data_split_file"
   ]
  },
  {
   "cell_type": "code",
   "execution_count": 42,
   "metadata": {
    "collapsed": true
   },
   "outputs": [],
   "source": [
    "df_train = pd.DataFrame(df_train)\n",
    "df_val = pd.DataFrame(df_val)\n",
    "df_test = pd.DataFrame(df_test)"
   ]
  },
  {
   "cell_type": "code",
   "execution_count": 40,
   "metadata": {
    "collapsed": false
   },
   "outputs": [],
   "source": [
    "df_train['1'] = 'training'\n",
    "df_val['1'] = 'validation'\n",
    "df_test['1'] = 'inference'"
   ]
  },
  {
   "cell_type": "code",
   "execution_count": 44,
   "metadata": {
    "collapsed": false
   },
   "outputs": [],
   "source": [
    "df = pd.concat([df_train, df_val, df_test], ignore_index=True)"
   ]
  },
  {
   "cell_type": "code",
   "execution_count": 47,
   "metadata": {
    "collapsed": false
   },
   "outputs": [
    {
     "data": {
      "text/plain": [
       "(285, 2)"
      ]
     },
     "execution_count": 47,
     "metadata": {},
     "output_type": "execute_result"
    }
   ],
   "source": [
    "df.shape"
   ]
  },
  {
   "cell_type": "code",
   "execution_count": 48,
   "metadata": {
    "collapsed": true
   },
   "outputs": [],
   "source": [
    "df.to_csv(f'/home/sathiesh/niftynet_brain/csv/brats/dataset_split.csv', index=False,header=None)"
   ]
  },
  {
   "cell_type": "code",
   "execution_count": null,
   "metadata": {
    "collapsed": true
   },
   "outputs": [],
   "source": []
  }
 ],
 "metadata": {
  "kernelspec": {
   "display_name": "fastai",
   "language": "python",
   "name": "dfastai"
  },
  "language_info": {
   "codemirror_mode": {
    "name": "ipython",
    "version": 3
   },
   "file_extension": ".py",
   "mimetype": "text/x-python",
   "name": "python",
   "nbconvert_exporter": "python",
   "pygments_lexer": "ipython3",
   "version": "3.6.2"
  }
 },
 "nbformat": 4,
 "nbformat_minor": 2
}
