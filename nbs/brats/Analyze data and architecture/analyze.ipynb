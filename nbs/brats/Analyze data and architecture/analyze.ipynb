{
 "cells": [
  {
   "cell_type": "code",
   "execution_count": 33,
   "metadata": {
    "collapsed": false
   },
   "outputs": [],
   "source": [
    "import sys, os\n",
    "import glob\n",
    "import csv\n",
    "from pathlib import Path\n",
    "import matplotlib.pyplot as plt\n",
    "import numpy as np\n",
    "import pandas as pd\n",
    "from utils import * \n",
    "import warnings\n",
    "warnings.filterwarnings('ignore')"
   ]
  },
  {
   "cell_type": "code",
   "execution_count": 34,
   "metadata": {
    "collapsed": true
   },
   "outputs": [],
   "source": [
    "subtype = 'HGG'"
   ]
  },
  {
   "cell_type": "code",
   "execution_count": 35,
   "metadata": {
    "collapsed": false
   },
   "outputs": [],
   "source": [
    "DATA = Path(f'/data-nas/brains/MICCAI_BraTS2018/interim/{subtype}')\n",
    "SAVE_PATH = %pwd\n",
    "SAVE_PATH = f'{SAVE_PATH}/saved_csv_files/'"
   ]
  },
  {
   "cell_type": "code",
   "execution_count": 36,
   "metadata": {
    "collapsed": true
   },
   "outputs": [],
   "source": [
    "studies_path = sorted(glob.glob(str(DATA)+'/*'))\n",
    "total_studies = len(studies_path)"
   ]
  },
  {
   "cell_type": "code",
   "execution_count": 37,
   "metadata": {
    "collapsed": false
   },
   "outputs": [],
   "source": [
    "def unique_values(studies_path):\n",
    " \n",
    "    count_values = {}\n",
    "    data_list = []\n",
    "    for path in studies_path:\n",
    "        study_id = (path.split(\"/\")[-1])\n",
    "        imgfn = (path + \"/\"+ study_id +\"_seg.nii.gz\")\n",
    "        \n",
    "        img, rnx, rny, rnz, data, affine = load_nifti(imgfn)\n",
    "        \n",
    "        #np_arr = np.unique(data) #unqiue values in a matrix \n",
    "        unique_arr, counts_arr = np.unique(data, return_counts=True)\n",
    "\n",
    "        for i in unique_arr: \n",
    "            if i in count_values: count_values[i] += 1 \n",
    "            else: count_values[i] = 1\n",
    "        data_list.append([unique_arr,counts_arr])\n",
    "                \n",
    "    return count_values, data_list"
   ]
  },
  {
   "cell_type": "code",
   "execution_count": 38,
   "metadata": {
    "collapsed": false
   },
   "outputs": [
    {
     "data": {
      "text/plain": [
       "{0: 210, 1: 210, 2: 210, 4: 210}"
      ]
     },
     "execution_count": 38,
     "metadata": {},
     "output_type": "execute_result"
    }
   ],
   "source": [
    "dic_classes, data_list = unique_values(studies_path)\n",
    "dic_classes"
   ]
  },
  {
   "cell_type": "code",
   "execution_count": 39,
   "metadata": {
    "collapsed": false
   },
   "outputs": [
    {
     "data": {
      "text/plain": [
       "array([8816276,   27189,   53050,   31485])"
      ]
     },
     "execution_count": 39,
     "metadata": {},
     "output_type": "execute_result"
    }
   ],
   "source": [
    "data_list[0][1]"
   ]
  },
  {
   "cell_type": "code",
   "execution_count": 40,
   "metadata": {
    "collapsed": false
   },
   "outputs": [],
   "source": [
    "info = []\n",
    "for img_info in data_list: \n",
    "    total_size = img_info[1].sum()\n",
    "    total = 0\n",
    "    save_info = {}\n",
    "    for idx,cls in enumerate(img_info[0]): \n",
    "        class_size = img_info[1][idx]\n",
    "        size_in_img = class_size/total_size\n",
    "        total += size_in_img\n",
    "        save_info[cls] = size_in_img\n",
    "    info.append(save_info)"
   ]
  },
  {
   "cell_type": "code",
   "execution_count": 41,
   "metadata": {
    "collapsed": false
   },
   "outputs": [
    {
     "data": {
      "text/html": [
       "<div>\n",
       "<style>\n",
       "    .dataframe thead tr:only-child th {\n",
       "        text-align: right;\n",
       "    }\n",
       "\n",
       "    .dataframe thead th {\n",
       "        text-align: left;\n",
       "    }\n",
       "\n",
       "    .dataframe tbody tr th {\n",
       "        vertical-align: top;\n",
       "    }\n",
       "</style>\n",
       "<table border=\"1\" class=\"dataframe\">\n",
       "  <thead>\n",
       "    <tr style=\"text-align: right;\">\n",
       "      <th></th>\n",
       "      <th>0</th>\n",
       "      <th>1</th>\n",
       "      <th>2</th>\n",
       "      <th>4</th>\n",
       "      <th>file_path</th>\n",
       "    </tr>\n",
       "  </thead>\n",
       "  <tbody>\n",
       "    <tr>\n",
       "      <th>0</th>\n",
       "      <td>0.987486</td>\n",
       "      <td>0.003045</td>\n",
       "      <td>0.005942</td>\n",
       "      <td>0.003527</td>\n",
       "      <td>/data-nas/brains/MICCAI_BraTS2018/interim/HGG/...</td>\n",
       "    </tr>\n",
       "    <tr>\n",
       "      <th>1</th>\n",
       "      <td>0.984402</td>\n",
       "      <td>0.005134</td>\n",
       "      <td>0.008260</td>\n",
       "      <td>0.002204</td>\n",
       "      <td>/data-nas/brains/MICCAI_BraTS2018/interim/HGG/...</td>\n",
       "    </tr>\n",
       "    <tr>\n",
       "      <th>2</th>\n",
       "      <td>0.976442</td>\n",
       "      <td>0.003847</td>\n",
       "      <td>0.014966</td>\n",
       "      <td>0.004745</td>\n",
       "      <td>/data-nas/brains/MICCAI_BraTS2018/interim/HGG/...</td>\n",
       "    </tr>\n",
       "    <tr>\n",
       "      <th>3</th>\n",
       "      <td>0.997705</td>\n",
       "      <td>0.000046</td>\n",
       "      <td>0.001748</td>\n",
       "      <td>0.000500</td>\n",
       "      <td>/data-nas/brains/MICCAI_BraTS2018/interim/HGG/...</td>\n",
       "    </tr>\n",
       "    <tr>\n",
       "      <th>4</th>\n",
       "      <td>0.978991</td>\n",
       "      <td>0.002366</td>\n",
       "      <td>0.014546</td>\n",
       "      <td>0.004097</td>\n",
       "      <td>/data-nas/brains/MICCAI_BraTS2018/interim/HGG/...</td>\n",
       "    </tr>\n",
       "  </tbody>\n",
       "</table>\n",
       "</div>"
      ],
      "text/plain": [
       "          0         1         2         4  \\\n",
       "0  0.987486  0.003045  0.005942  0.003527   \n",
       "1  0.984402  0.005134  0.008260  0.002204   \n",
       "2  0.976442  0.003847  0.014966  0.004745   \n",
       "3  0.997705  0.000046  0.001748  0.000500   \n",
       "4  0.978991  0.002366  0.014546  0.004097   \n",
       "\n",
       "                                           file_path  \n",
       "0  /data-nas/brains/MICCAI_BraTS2018/interim/HGG/...  \n",
       "1  /data-nas/brains/MICCAI_BraTS2018/interim/HGG/...  \n",
       "2  /data-nas/brains/MICCAI_BraTS2018/interim/HGG/...  \n",
       "3  /data-nas/brains/MICCAI_BraTS2018/interim/HGG/...  \n",
       "4  /data-nas/brains/MICCAI_BraTS2018/interim/HGG/...  "
      ]
     },
     "execution_count": 41,
     "metadata": {},
     "output_type": "execute_result"
    }
   ],
   "source": [
    "df = pd.DataFrame(info)\n",
    "df['file_path'] = studies_path\n",
    "df.head()"
   ]
  },
  {
   "cell_type": "code",
   "execution_count": 42,
   "metadata": {
    "collapsed": false
   },
   "outputs": [
    {
     "data": {
      "image/png": "[encoded data removed]",
      "text/plain": [
       "<matplotlib.figure.Figure at 0x7fefbb0756a0>"
      ]
     },
     "metadata": {},
     "output_type": "display_data"
    }
   ],
   "source": [
    "fig = plt.figure();\n",
    "data = df[1] + df[4]\n",
    "box_plot = plt.boxplot(data, patch_artist=True)\n",
    "plt.xlabel('Tumor core', fontsize=15)\n",
    "plt.ylabel('Size', fontsize=15)\n",
    "colors = ['#8fbcda']\n",
    "for patch, color in zip(box_plot['boxes'], colors):\n",
    "    patch.set_facecolor(color)\n",
    "plt.show()"
   ]
  },
  {
   "cell_type": "code",
   "execution_count": 70,
   "metadata": {
    "collapsed": true
   },
   "outputs": [],
   "source": [
    "fig.savefig('tumor_core.png', format='png', dpi=100)"
   ]
  },
  {
   "cell_type": "code",
   "execution_count": 71,
   "metadata": {
    "collapsed": true
   },
   "outputs": [],
   "source": [
    "df = pd.DataFrame(data)\n",
    "df['file_path'] = studies_path"
   ]
  },
  {
   "cell_type": "code",
   "execution_count": 86,
   "metadata": {
    "collapsed": false
   },
   "outputs": [
    {
     "data": {
      "text/html": [
       "<div>\n",
       "<style>\n",
       "    .dataframe thead tr:only-child th {\n",
       "        text-align: right;\n",
       "    }\n",
       "\n",
       "    .dataframe thead th {\n",
       "        text-align: left;\n",
       "    }\n",
       "\n",
       "    .dataframe tbody tr th {\n",
       "        vertical-align: top;\n",
       "    }\n",
       "</style>\n",
       "<table border=\"1\" class=\"dataframe\">\n",
       "  <thead>\n",
       "    <tr style=\"text-align: right;\">\n",
       "      <th></th>\n",
       "      <th>0</th>\n",
       "      <th>file_path</th>\n",
       "    </tr>\n",
       "  </thead>\n",
       "  <tbody>\n",
       "    <tr>\n",
       "      <th>105</th>\n",
       "      <td>0.000063</td>\n",
       "      <td>/data-nas/brains/MICCAI_BraTS2018/interim/HGG/...</td>\n",
       "    </tr>\n",
       "    <tr>\n",
       "      <th>123</th>\n",
       "      <td>0.000139</td>\n",
       "      <td>/data-nas/brains/MICCAI_BraTS2018/interim/HGG/...</td>\n",
       "    </tr>\n",
       "    <tr>\n",
       "      <th>27</th>\n",
       "      <td>0.000153</td>\n",
       "      <td>/data-nas/brains/MICCAI_BraTS2018/interim/HGG/...</td>\n",
       "    </tr>\n",
       "    <tr>\n",
       "      <th>65</th>\n",
       "      <td>0.000170</td>\n",
       "      <td>/data-nas/brains/MICCAI_BraTS2018/interim/HGG/...</td>\n",
       "    </tr>\n",
       "    <tr>\n",
       "      <th>63</th>\n",
       "      <td>0.000203</td>\n",
       "      <td>/data-nas/brains/MICCAI_BraTS2018/interim/HGG/...</td>\n",
       "    </tr>\n",
       "  </tbody>\n",
       "</table>\n",
       "</div>"
      ],
      "text/plain": [
       "            0                                          file_path\n",
       "105  0.000063  /data-nas/brains/MICCAI_BraTS2018/interim/HGG/...\n",
       "123  0.000139  /data-nas/brains/MICCAI_BraTS2018/interim/HGG/...\n",
       "27   0.000153  /data-nas/brains/MICCAI_BraTS2018/interim/HGG/...\n",
       "65   0.000170  /data-nas/brains/MICCAI_BraTS2018/interim/HGG/...\n",
       "63   0.000203  /data-nas/brains/MICCAI_BraTS2018/interim/HGG/..."
      ]
     },
     "execution_count": 86,
     "metadata": {},
     "output_type": "execute_result"
    }
   ],
   "source": [
    "df.sort_values(by=[0], ascending=True).head()"
   ]
  },
  {
   "cell_type": "code",
   "execution_count": 88,
   "metadata": {
    "collapsed": false
   },
   "outputs": [
    {
     "data": {
      "text/plain": [
       "'/data-nas/brains/MICCAI_BraTS2018/interim/HGG/Brats18_CBICA_BHB_1'"
      ]
     },
     "execution_count": 88,
     "metadata": {},
     "output_type": "execute_result"
    }
   ],
   "source": [
    "df['file_path'][105]"
   ]
  },
  {
   "cell_type": "markdown",
   "metadata": {},
   "source": [
    "# Check depth"
   ]
  },
  {
   "cell_type": "code",
   "execution_count": null,
   "metadata": {
    "collapsed": true
   },
   "outputs": [],
   "source": [
    "def img_depth(studies_path):\n",
    " \n",
    "    values = []\n",
    "    for path in studies_path:\n",
    "        study_id = (path.split(\"/\")[-1])\n",
    "        imgfn = (path + \"/\"+ study_id +\"_seg.nii.gz\")\n",
    "        \n",
    "        img, rnx, rny, rnz, data, affine = load_nifti(imgfn)\n",
    "        depth = data.shape[2]\n",
    "        values.append(depth)\n",
    "    return values"
   ]
  },
  {
   "cell_type": "code",
   "execution_count": null,
   "metadata": {
    "collapsed": true
   },
   "outputs": [],
   "source": [
    "depth_values = img_depth(studies_path)"
   ]
  },
  {
   "cell_type": "code",
   "execution_count": null,
   "metadata": {
    "collapsed": false
   },
   "outputs": [],
   "source": [
    "np.unique(depth_values, return_counts=True)"
   ]
  }
 ],
 "metadata": {
  "kernelspec": {
   "display_name": "Python [conda env:fastai]",
   "language": "python",
   "name": "conda-env-fastai-py"
  },
  "language_info": {
   "codemirror_mode": {
    "name": "ipython",
    "version": 3
   },
   "file_extension": ".py",
   "mimetype": "text/x-python",
   "name": "python",
   "nbconvert_exporter": "python",
   "pygments_lexer": "ipython3",
   "version": "3.6.2"
  }
 },
 "nbformat": 4,
 "nbformat_minor": 2
}
