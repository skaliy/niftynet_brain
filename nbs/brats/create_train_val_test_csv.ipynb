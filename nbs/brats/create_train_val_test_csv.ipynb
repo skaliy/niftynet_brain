{
 "cells": [
  {
   "cell_type": "code",
   "execution_count": 1,
   "metadata": {
    "collapsed": true
   },
   "outputs": [],
   "source": [
    "import numpy as np\n",
    "import pandas as pd\n",
    "import sys, os\n",
    "import glob\n",
    "from pprint import pprint\n",
    "import csv\n",
    "from collections import Counter"
   ]
  },
  {
   "cell_type": "markdown",
   "metadata": {},
   "source": [
    "# Create train val and test set "
   ]
  },
  {
   "cell_type": "code",
   "execution_count": 2,
   "metadata": {
    "collapsed": true
   },
   "outputs": [],
   "source": [
    "df_HGG = pd.read_csv('/home/sathiesh/niftynet_brain/csv/brats/interim/seg_HGG.csv', header=None)"
   ]
  },
  {
   "cell_type": "code",
   "execution_count": 3,
   "metadata": {
    "collapsed": true
   },
   "outputs": [],
   "source": [
    "val_test_HGG = df_HGG.sample(n=105)[0] #30 HGG images\n",
    "df_train_HGG = df_HGG.loc[~df_HGG.index.isin(val_test_HGG.index)][0]"
   ]
  },
  {
   "cell_type": "code",
   "execution_count": 4,
   "metadata": {
    "collapsed": true
   },
   "outputs": [],
   "source": [
    "df_val_HGG = val_test_HGG.sample(frac=0.6)\n",
    "df_test_HGG = val_test_HGG.loc[~val_test_HGG.index.isin(df_val_HGG.index)]"
   ]
  },
  {
   "cell_type": "code",
   "execution_count": 5,
   "metadata": {
    "collapsed": true
   },
   "outputs": [],
   "source": [
    "df_val_HGG.to_csv('/home/sathiesh/niftynet_brain/csv/brats/train_val_test/val.csv', index=False,header=None)"
   ]
  },
  {
   "cell_type": "code",
   "execution_count": 6,
   "metadata": {
    "collapsed": true
   },
   "outputs": [],
   "source": [
    "df_test_HGG.to_csv('/home/sathiesh/niftynet_brain/csv/brats/train_val_test/test.csv', index=False,header=None)"
   ]
  },
  {
   "cell_type": "markdown",
   "metadata": {},
   "source": [
    "# Equal number of HGG in each study"
   ]
  },
  {
   "cell_type": "markdown",
   "metadata": {},
   "source": [
    "### HGG"
   ]
  },
  {
   "cell_type": "code",
   "execution_count": 7,
   "metadata": {
    "collapsed": true
   },
   "outputs": [],
   "source": [
    "df_first = df_train_HGG.sample(frac=0.5)\n",
    "df_second = df_train_HGG.loc[~df_train_HGG.index.isin(df_first.index)]"
   ]
  },
  {
   "cell_type": "code",
   "execution_count": 8,
   "metadata": {
    "collapsed": true
   },
   "outputs": [],
   "source": [
    "HGG_1 = df_first.sample(frac=0.5)\n",
    "HGG_2 = df_first.loc[~df_first.index.isin(HGG_1.index)]"
   ]
  },
  {
   "cell_type": "code",
   "execution_count": 9,
   "metadata": {
    "collapsed": true
   },
   "outputs": [],
   "source": [
    "HGG_3 = df_second.sample(frac=0.5)\n",
    "HGG_4 = df_second.loc[~df_second.index.isin(HGG_3.index)]"
   ]
  },
  {
   "cell_type": "code",
   "execution_count": 10,
   "metadata": {
    "collapsed": false
   },
   "outputs": [
    {
     "data": {
      "text/plain": [
       "(26, 26, 26, 27)"
      ]
     },
     "execution_count": 10,
     "metadata": {},
     "output_type": "execute_result"
    }
   ],
   "source": [
    "len(HGG_1), len(HGG_2), len(HGG_3), len(HGG_4)"
   ]
  },
  {
   "cell_type": "markdown",
   "metadata": {},
   "source": [
    "# Create csv files for case studies"
   ]
  },
  {
   "cell_type": "code",
   "execution_count": 11,
   "metadata": {
    "collapsed": true
   },
   "outputs": [],
   "source": [
    "HGG_1.to_csv('/home/sathiesh/niftynet_brain/csv/brats/train_val_test/train_1.csv', index=False,header=None)"
   ]
  },
  {
   "cell_type": "code",
   "execution_count": 12,
   "metadata": {
    "collapsed": true
   },
   "outputs": [],
   "source": [
    "HGG_2 = pd.concat([HGG_1, HGG_2])\n",
    "HGG_2.to_csv('/home/sathiesh/niftynet_brain/csv/brats/train_val_test/train_2.csv', index=False,header=None)"
   ]
  },
  {
   "cell_type": "code",
   "execution_count": 13,
   "metadata": {
    "collapsed": true
   },
   "outputs": [],
   "source": [
    "HGG_3 = pd.concat([HGG_2, HGG_3])\n",
    "HGG_3.to_csv('/home/sathiesh/niftynet_brain/csv/brats/train_val_test/train_3.csv', index=False,header=None)"
   ]
  },
  {
   "cell_type": "code",
   "execution_count": 14,
   "metadata": {
    "collapsed": true
   },
   "outputs": [],
   "source": [
    "HGG_4 = pd.concat([HGG_3, HGG_4])\n",
    "HGG_4.to_csv('/home/sathiesh/niftynet_brain/csv/brats/train_val_test/train_4.csv', index=False,header=None)"
   ]
  },
  {
   "cell_type": "code",
   "execution_count": null,
   "metadata": {
    "collapsed": true
   },
   "outputs": [],
   "source": []
  }
 ],
 "metadata": {
  "kernelspec": {
   "display_name": "fastai",
   "language": "python",
   "name": "dfastai"
  },
  "language_info": {
   "codemirror_mode": {
    "name": "ipython",
    "version": 3
   },
   "file_extension": ".py",
   "mimetype": "text/x-python",
   "name": "python",
   "nbconvert_exporter": "python",
   "pygments_lexer": "ipython3",
   "version": "3.6.6"
  }
 },
 "nbformat": 4,
 "nbformat_minor": 2
}
