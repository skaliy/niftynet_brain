{
 "cells": [
  {
   "cell_type": "code",
   "execution_count": 31,
   "metadata": {},
   "outputs": [],
   "source": [
    "import numpy as np\n",
    "import pandas as pd\n",
    "import sys, os\n",
    "import glob\n",
    "from pprint import pprint\n",
    "import csv\n",
    "from collections import Counter"
   ]
  },
  {
   "cell_type": "markdown",
   "metadata": {},
   "source": [
    "# Create train val and test set "
   ]
  },
  {
   "cell_type": "code",
   "execution_count": 32,
   "metadata": {},
   "outputs": [],
   "source": [
    "df_HGG = pd.read_csv('/home/sathiesh/niftynet_brain/csv/brats/interim/seg_HGG.csv', header=None)\n",
    "df_LGG = pd.read_csv('/home/sathiesh/niftynet_brain/csv/brats/interim/seg_LGG.csv', header=None)"
   ]
  },
  {
   "cell_type": "code",
   "execution_count": 33,
   "metadata": {},
   "outputs": [],
   "source": [
    "val_test_HGG = df_HGG.sample(n=30)[0] #30 HGG images\n",
    "df_train_HGG = df_HGG.loc[~df_HGG.index.isin(val_test_HGG.index)][0]"
   ]
  },
  {
   "cell_type": "code",
   "execution_count": 34,
   "metadata": {},
   "outputs": [],
   "source": [
    "val_test_LGG = df_LGG.sample(n=20)[0] #20 LGG images \n",
    "df_train_LGG = df_LGG.loc[~df_LGG.index.isin(val_test_LGG.index)][0]"
   ]
  },
  {
   "cell_type": "code",
   "execution_count": 35,
   "metadata": {},
   "outputs": [],
   "source": [
    "df_val_HGG = val_test_HGG.sample(frac=0.5)\n",
    "df_test_HGG = val_test_HGG.loc[~val_test_HGG.index.isin(df_val_HGG.index)]"
   ]
  },
  {
   "cell_type": "code",
   "execution_count": 36,
   "metadata": {},
   "outputs": [],
   "source": [
    "df_val_LGG = val_test_LGG.sample(frac=0.5)\n",
    "df_test_LGG = val_test_LGG.loc[~val_test_LGG.index.isin(df_val_LGG.index)]"
   ]
  },
  {
   "cell_type": "code",
   "execution_count": 37,
   "metadata": {},
   "outputs": [],
   "source": [
    "#df_train = pd.concat([df_train_HGG, df_train_LGG])\n",
    "df_val = pd.concat([df_val_HGG, df_val_LGG])\n",
    "df_test = pd.concat([df_test_HGG, df_test_LGG])"
   ]
  },
  {
   "cell_type": "code",
   "execution_count": 38,
   "metadata": {},
   "outputs": [],
   "source": [
    "#df_train.to_csv('/home/sathiesh/niftynet_brain/csv/brats/train_val_test/train.csv', index=False,header=None)"
   ]
  },
  {
   "cell_type": "code",
   "execution_count": 39,
   "metadata": {},
   "outputs": [],
   "source": [
    "df_val.to_csv('/home/sathiesh/niftynet_brain/csv/brats/train_val_test/val.csv', index=False,header=None)"
   ]
  },
  {
   "cell_type": "code",
   "execution_count": 40,
   "metadata": {},
   "outputs": [],
   "source": [
    "df_test.to_csv('/home/sathiesh/niftynet_brain/csv/brats/train_val_test/test.csv', index=False,header=None)"
   ]
  },
  {
   "cell_type": "markdown",
   "metadata": {},
   "source": [
    "# Equal number of HGG and LGG in each study"
   ]
  },
  {
   "cell_type": "markdown",
   "metadata": {},
   "source": [
    "### LGG"
   ]
  },
  {
   "cell_type": "code",
   "execution_count": 41,
   "metadata": {},
   "outputs": [],
   "source": [
    "df_first = df_train_LGG.sample(frac=0.5)\n",
    "df_second = df_train_LGG.loc[~df_train_LGG.index.isin(df_first.index)]"
   ]
  },
  {
   "cell_type": "code",
   "execution_count": 42,
   "metadata": {},
   "outputs": [],
   "source": [
    "LGG_1 = df_first.sample(frac=0.5)\n",
    "LGG_2 = df_first.loc[~df_first.index.isin(LGG_1.index)]"
   ]
  },
  {
   "cell_type": "code",
   "execution_count": 43,
   "metadata": {},
   "outputs": [],
   "source": [
    "LGG_3 = df_second.sample(frac=0.5)\n",
    "LGG_4 = df_second.loc[~df_second.index.isin(LGG_3.index)]"
   ]
  },
  {
   "cell_type": "code",
   "execution_count": 44,
   "metadata": {},
   "outputs": [
    {
     "data": {
      "text/plain": [
       "(14, 14, 14, 13)"
      ]
     },
     "execution_count": 44,
     "metadata": {},
     "output_type": "execute_result"
    }
   ],
   "source": [
    "len(LGG_1), len(LGG_2), len(LGG_3), len(LGG_4)"
   ]
  },
  {
   "cell_type": "markdown",
   "metadata": {},
   "source": [
    "### HGG"
   ]
  },
  {
   "cell_type": "code",
   "execution_count": 45,
   "metadata": {},
   "outputs": [],
   "source": [
    "df_first = df_train_HGG.sample(frac=0.5)\n",
    "df_second = df_train_HGG.loc[~df_train_HGG.index.isin(df_first.index)]"
   ]
  },
  {
   "cell_type": "code",
   "execution_count": 46,
   "metadata": {},
   "outputs": [],
   "source": [
    "HGG_1 = df_first.sample(frac=0.5)\n",
    "HGG_2 = df_first.loc[~df_first.index.isin(HGG_1.index)]"
   ]
  },
  {
   "cell_type": "code",
   "execution_count": 47,
   "metadata": {},
   "outputs": [],
   "source": [
    "HGG_3 = df_second.sample(frac=0.5)\n",
    "HGG_4 = df_second.loc[~df_second.index.isin(HGG_3.index)]"
   ]
  },
  {
   "cell_type": "code",
   "execution_count": 48,
   "metadata": {},
   "outputs": [
    {
     "data": {
      "text/plain": [
       "(45, 45, 45, 45)"
      ]
     },
     "execution_count": 48,
     "metadata": {},
     "output_type": "execute_result"
    }
   ],
   "source": [
    "len(HGG_1), len(HGG_2), len(HGG_3), len(HGG_4)"
   ]
  },
  {
   "cell_type": "markdown",
   "metadata": {},
   "source": [
    "# Create csv files for case studies"
   ]
  },
  {
   "cell_type": "code",
   "execution_count": 83,
   "metadata": {},
   "outputs": [],
   "source": [
    "df_1 = pd.concat([HGG_1, LGG_1])"
   ]
  },
  {
   "cell_type": "code",
   "execution_count": 84,
   "metadata": {},
   "outputs": [],
   "source": [
    "df_2 = pd.concat([HGG_2, LGG_2])"
   ]
  },
  {
   "cell_type": "code",
   "execution_count": 85,
   "metadata": {},
   "outputs": [],
   "source": [
    "df_3 = pd.concat([HGG_3, LGG_3])"
   ]
  },
  {
   "cell_type": "code",
   "execution_count": 86,
   "metadata": {},
   "outputs": [],
   "source": [
    "df_4 = pd.concat([HGG_4, LGG_4])"
   ]
  },
  {
   "cell_type": "code",
   "execution_count": 87,
   "metadata": {},
   "outputs": [],
   "source": [
    "df_1.to_csv('/home/sathiesh/niftynet_brain/csv/brats/train_val_test/train_1.csv', index=False,header=None)"
   ]
  },
  {
   "cell_type": "code",
   "execution_count": 89,
   "metadata": {},
   "outputs": [],
   "source": [
    "df_2 = pd.concat([df_1, df_2])\n",
    "df_2.to_csv('/home/sathiesh/niftynet_brain/csv/brats/train_val_test/train_2.csv', index=False,header=None)"
   ]
  },
  {
   "cell_type": "code",
   "execution_count": 91,
   "metadata": {},
   "outputs": [],
   "source": [
    "df_3 = pd.concat([df_2, df_3])\n",
    "df_3.to_csv('/home/sathiesh/niftynet_brain/csv/brats/train_val_test/train_3.csv', index=False,header=None)"
   ]
  },
  {
   "cell_type": "code",
   "execution_count": 93,
   "metadata": {},
   "outputs": [],
   "source": [
    "df_4 = pd.concat([df_3, df_4])\n",
    "df_4.to_csv('/home/sathiesh/niftynet_brain/csv/brats/train_val_test/train_4.csv', index=False,header=None)"
   ]
  },
  {
   "cell_type": "markdown",
   "metadata": {},
   "source": [
    "# Modify dataset_split.csv created by niftynet"
   ]
  },
  {
   "cell_type": "code",
   "execution_count": null,
   "metadata": {},
   "outputs": [],
   "source": [
    "#df = pd.read_csv('/data-nas/sathiesh/niftynet_brain/models/brats/dataset_split.csv', header=None)"
   ]
  },
  {
   "cell_type": "code",
   "execution_count": 63,
   "metadata": {},
   "outputs": [],
   "source": [
    "#df.head()"
   ]
  },
  {
   "cell_type": "code",
   "execution_count": null,
   "metadata": {},
   "outputs": [],
   "source": [
    "#df.loc[df[0].isin(df_val),1] = 'validation' "
   ]
  },
  {
   "cell_type": "code",
   "execution_count": null,
   "metadata": {},
   "outputs": [],
   "source": [
    "#df.loc[df[0].isin(df_test),1] = 'inference' "
   ]
  },
  {
   "cell_type": "code",
   "execution_count": null,
   "metadata": {},
   "outputs": [],
   "source": [
    "#df.to_csv('/data-nas/sathiesh/niftynet_brain/models/brats/dataset_split.csv', index=False,header=None)"
   ]
  },
  {
   "cell_type": "code",
   "execution_count": null,
   "metadata": {},
   "outputs": [],
   "source": []
  }
 ],
 "metadata": {
  "kernelspec": {
   "display_name": "fastai",
   "language": "python",
   "name": "dfastai"
  },
  "language_info": {
   "codemirror_mode": {
    "name": "ipython",
    "version": 3
   },
   "file_extension": ".py",
   "mimetype": "text/x-python",
   "name": "python",
   "nbconvert_exporter": "python",
   "pygments_lexer": "ipython3",
   "version": "3.6.6"
  }
 },
 "nbformat": 4,
 "nbformat_minor": 2
}
