{
 "cells": [
  {
   "cell_type": "code",
   "execution_count": 117,
   "metadata": {
    "collapsed": true
   },
   "outputs": [],
   "source": [
    "import sys\n",
    "import tensorflow as tf\n",
    "import numpy as np\n",
    "import re"
   ]
  },
  {
   "cell_type": "code",
   "execution_count": 118,
   "metadata": {
    "collapsed": true
   },
   "outputs": [],
   "source": [
    "SAVE_PATH = %pwd\n",
    "filename = \"net_vars.txt\""
   ]
  },
  {
   "cell_type": "code",
   "execution_count": 119,
   "metadata": {
    "collapsed": true
   },
   "outputs": [],
   "source": [
    "PATH = '/data-nas/sathiesh/niftynet_brain/saved_models/ixi/b3_hippocampus/'\n",
    "SAVE_PATH = f'{SAVE_PATH}/../../config/brats/'\n",
    "iteration = 5558"
   ]
  },
  {
   "cell_type": "code",
   "execution_count": 120,
   "metadata": {
    "collapsed": true
   },
   "outputs": [],
   "source": [
    "#PATH = '/data-nas/sathiesh/niftynet_brain/models/brats_study1/models/'\n",
    "#SAVE_PATH = '/home/sathiesh/niftynet_brain/config/brats/study_1/'\n",
    "#iteration = 8558"
   ]
  },
  {
   "cell_type": "code",
   "execution_count": 121,
   "metadata": {
    "collapsed": true
   },
   "outputs": [],
   "source": [
    "import tensorflow as tf\n",
    "import numpy as np\n",
    "# ckpt_path: full path to checkpoint file (e.g.: /path/to/ckpt/model.ckpt-###)\n",
    "# output_file: name of output file (e.g.: /path/to/file/net_vars.txt)\n",
    "def get_ckpt_vars(ckpt_path, output_file):\n",
    "    file = open(output_file, 'w+')\n",
    "    for var in tf.train.list_variables(ckpt_path):\n",
    "        file.write(str(var) + '\\n')\n",
    "    file.close()"
   ]
  },
  {
   "cell_type": "code",
   "execution_count": 122,
   "metadata": {
    "collapsed": false
   },
   "outputs": [],
   "source": [
    "get_ckpt_vars(f'{PATH}model.ckpt-{iteration}', f'{SAVE_PATH}{filename}')"
   ]
  },
  {
   "cell_type": "code",
   "execution_count": 133,
   "metadata": {
    "collapsed": false
   },
   "outputs": [],
   "source": [
    "# https://gist.github.com/dalgu90/a9952dfd372cbe1cdc529b204329e189\n",
    "\n",
    "def count_params(ckpt_path, output_file):\n",
    "    \n",
    "    reader = tf.train.NewCheckpointReader(ckpt_fpath)\n",
    "    pattern = re.compile(\"^((?!HighRes3DNet\\/(res_2|res_3|conv_1|conv_2)).)*$\")\n",
    "    pattern = re.compile(\"\")\n",
    "    print('\\nCount the number of parameters in ckpt file(%s)' % ckpt_fpath)\n",
    "    param_map = reader.get_variable_to_shape_map()\n",
    "    total_count = 0\n",
    "    file = open(output_file, 'w+')\n",
    "    for k, v in param_map.items():\n",
    "        if 'Adam' not in k and pattern.match(k):\n",
    "            temp = np.prod(v)\n",
    "            total_count += temp\n",
    "            print(str(k)+ \" \" + str(v) + \",\" + str(temp))\n",
    "            file.write(str(k)+ \" \" + str(v) + \",\" + str(temp))\n",
    "    \n",
    "    file.close()\n",
    "    print('Total Param Count: %d' % total_count)"
   ]
  },
  {
   "cell_type": "code",
   "execution_count": 134,
   "metadata": {
    "collapsed": false
   },
   "outputs": [
    {
     "name": "stdout",
     "output_type": "stream",
     "text": [
      "\n",
      "Count the number of parameters in ckpt file(/data-nas/sathiesh/niftynet_brain/saved_models/ixi/b3_hippocampus/model.ckpt-5558)\n",
      "HighRes3DNet/res_3_2/conv_1/w [3, 3, 3, 64, 64],110592\n",
      "HighRes3DNet/res_3_2/bn_1/moving_mean [64],64\n",
      "HighRes3DNet/res_3_2/bn_1/HighRes3DNet/res_3_2/bn_1/moving_variance/local_step [],1.0\n",
      "HighRes3DNet/res_3_2/bn_1/HighRes3DNet/res_3_2/bn_1/moving_variance/biased [64],64\n",
      "HighRes3DNet/res_3_2/bn_1/HighRes3DNet/res_3_2/bn_1/moving_mean/local_step [],1.0\n",
      "HighRes3DNet/res_3_2/bn_0/moving_mean [64],64\n",
      "HighRes3DNet/res_3_2/bn_0/HighRes3DNet/res_3_2/bn_0/moving_mean/local_step [],1.0\n",
      "HighRes3DNet/res_3_2/bn_0/HighRes3DNet/res_3_2/bn_0/moving_mean/biased [64],64\n",
      "HighRes3DNet/res_3_1/bn_1/moving_mean [64],64\n",
      "HighRes3DNet/res_3_1/bn_1/gamma [64],64\n",
      "HighRes3DNet/res_3_1/bn_1/beta [64],64\n",
      "HighRes3DNet/res_3_2/bn_0/moving_variance [64],64\n",
      "HighRes3DNet/res_3_1/bn_1/HighRes3DNet/res_3_1/bn_1/moving_variance/local_step [],1.0\n",
      "HighRes3DNet/res_3_1/bn_1/HighRes3DNet/res_3_1/bn_1/moving_variance/biased [64],64\n",
      "HighRes3DNet/res_3_1/bn_1/HighRes3DNet/res_3_1/bn_1/moving_mean/local_step [],1.0\n",
      "HighRes3DNet/res_3_1/bn_0/moving_variance [64],64\n",
      "HighRes3DNet/res_3_1/bn_0/moving_mean [64],64\n",
      "HighRes3DNet/res_3_1/bn_0/beta [64],64\n",
      "HighRes3DNet/res_3_0/bn_1/moving_variance [64],64\n",
      "HighRes3DNet/res_3_1/bn_0/HighRes3DNet/res_3_1/bn_0/moving_mean/biased [64],64\n",
      "HighRes3DNet/res_3_0/bn_1/HighRes3DNet/res_3_0/bn_1/moving_variance/biased [64],64\n",
      "HighRes3DNet/res_3_0/bn_1/HighRes3DNet/res_3_0/bn_1/moving_mean/local_step [],1.0\n",
      "HighRes3DNet/res_3_0/bn_1/HighRes3DNet/res_3_0/bn_1/moving_mean/biased [64],64\n",
      "HighRes3DNet/res_3_0/bn_0/moving_variance [32],32\n",
      "HighRes3DNet/res_3_0/bn_0/moving_mean [32],32\n",
      "HighRes3DNet/res_3_2/bn_0/HighRes3DNet/res_3_2/bn_0/moving_variance/biased [64],64\n",
      "HighRes3DNet/res_3_0/bn_0/gamma [32],32\n",
      "HighRes3DNet/res_3_0/bn_1/HighRes3DNet/res_3_0/bn_1/moving_variance/local_step [],1.0\n",
      "HighRes3DNet/res_3_0/bn_0/HighRes3DNet/res_3_0/bn_0/moving_variance/local_step [],1.0\n",
      "HighRes3DNet/res_3_0/bn_0/HighRes3DNet/res_3_0/bn_0/moving_variance/biased [32],32\n",
      "HighRes3DNet/res_3_0/bn_0/HighRes3DNet/res_3_0/bn_0/moving_mean/biased [32],32\n",
      "HighRes3DNet/res_2_2/conv_1/w [3, 3, 3, 32, 32],27648\n",
      "HighRes3DNet/res_3_2/conv_0/w [3, 3, 3, 64, 64],110592\n",
      "HighRes3DNet/res_2_2/conv_0/w [3, 3, 3, 32, 32],27648\n",
      "HighRes3DNet/res_2_2/bn_1/moving_variance [32],32\n",
      "HighRes3DNet/res_3_1/bn_0/HighRes3DNet/res_3_1/bn_0/moving_variance/local_step [],1.0\n",
      "HighRes3DNet/res_2_2/bn_1/moving_mean [32],32\n",
      "HighRes3DNet/res_3_0/bn_1/moving_mean [64],64\n",
      "HighRes3DNet/res_3_0/bn_1/beta [64],64\n",
      "HighRes3DNet/res_3_0/conv_1/w [3, 3, 3, 64, 64],110592\n",
      "HighRes3DNet/res_2_2/bn_1/gamma [32],32\n",
      "HighRes3DNet/res_2_2/bn_1/beta [32],32\n",
      "HighRes3DNet/res_2_2/bn_1/HighRes3DNet/res_2_2/bn_1/moving_variance/biased [32],32\n",
      "HighRes3DNet/res_2_2/bn_1/HighRes3DNet/res_2_2/bn_1/moving_mean/local_step [],1.0\n",
      "HighRes3DNet/res_2_2/bn_1/HighRes3DNet/res_2_2/bn_1/moving_mean/biased [32],32\n",
      "HighRes3DNet/res_2_2/bn_0/moving_variance [32],32\n",
      "HighRes3DNet/res_2_2/bn_0/moving_mean [32],32\n",
      "HighRes3DNet/res_2_2/bn_0/gamma [32],32\n",
      "HighRes3DNet/res_1_1/bn_1/HighRes3DNet/res_1_1/bn_1/moving_variance/biased [16],16\n",
      "HighRes3DNet/conv_2_bn/bn_/HighRes3DNet/conv_2_bn/bn_/moving_variance/biased [2],2\n",
      "HighRes3DNet/res_3_0/bn_0/beta [32],32\n",
      "HighRes3DNet/res_1_1/bn_0/moving_mean [16],16\n",
      "HighRes3DNet/res_2_0/bn_1/HighRes3DNet/res_2_0/bn_1/moving_mean/local_step [],1.0\n",
      "HighRes3DNet/res_1_1/bn_0/gamma [16],16\n",
      "HighRes3DNet/conv_0_bn_leakyrelu/bn_/moving_mean [16],16\n",
      "HighRes3DNet/conv_0_bn_leakyrelu/bn_/HighRes3DNet/conv_0_bn_leakyrelu/bn_/moving_mean/local_step [],1.0\n",
      "HighRes3DNet/res_1_0/conv_1/w [3, 3, 3, 16, 16],6912\n",
      "HighRes3DNet/res_2_0/bn_1/gamma [32],32\n",
      "HighRes3DNet/res_1_0/bn_1/moving_variance [16],16\n",
      "HighRes3DNet/res_1_0/bn_0/HighRes3DNet/res_1_0/bn_0/moving_variance/biased [16],16\n",
      "HighRes3DNet/res_1_1/bn_1/HighRes3DNet/res_1_1/bn_1/moving_variance/local_step [],1.0\n",
      "HighRes3DNet/res_1_0/bn_1/HighRes3DNet/res_1_0/bn_1/moving_variance/local_step [],1.0\n",
      "HighRes3DNet/res_1_2/bn_1/gamma [16],16\n",
      "HighRes3DNet/conv_2_bn/bn_/HighRes3DNet/conv_2_bn/bn_/moving_mean/local_step [],1.0\n",
      "HighRes3DNet/res_1_0/bn_1/HighRes3DNet/res_1_0/bn_1/moving_variance/biased [16],16\n",
      "HighRes3DNet/res_3_1/conv_1/w [3, 3, 3, 64, 64],110592\n",
      "HighRes3DNet/res_1_0/bn_1/HighRes3DNet/res_1_0/bn_1/moving_mean/local_step [],1.0\n",
      "HighRes3DNet/res_3_1/bn_1/moving_variance [64],64\n",
      "HighRes3DNet/res_1_0/bn_1/HighRes3DNet/res_1_0/bn_1/moving_mean/biased [16],16\n",
      "HighRes3DNet/res_2_2/bn_0/HighRes3DNet/res_2_2/bn_0/moving_mean/local_step [],1.0\n",
      "HighRes3DNet/res_1_0/bn_1/moving_mean [16],16\n",
      "HighRes3DNet/res_1_1/bn_0/beta [16],16\n",
      "HighRes3DNet/res_1_1/bn_0/HighRes3DNet/res_1_1/bn_0/moving_variance/local_step [],1.0\n",
      "HighRes3DNet/res_1_0/bn_0/moving_variance [16],16\n",
      "HighRes3DNet/res_2_0/bn_0/moving_mean [16],16\n",
      "HighRes3DNet/res_1_1/bn_1/beta [16],16\n",
      "HighRes3DNet/res_2_1/bn_1/HighRes3DNet/res_2_1/bn_1/moving_mean/local_step [],1.0\n",
      "HighRes3DNet/res_2_1/conv_0/w [3, 3, 3, 32, 32],27648\n",
      "HighRes3DNet/res_1_0/bn_0/gamma [16],16\n",
      "HighRes3DNet/res_1_0/bn_0/beta [16],16\n",
      "HighRes3DNet/res_2_2/bn_0/beta [32],32\n",
      "HighRes3DNet/res_1_0/bn_0/HighRes3DNet/res_1_0/bn_0/moving_variance/local_step [],1.0\n",
      "HighRes3DNet/res_3_1/bn_1/HighRes3DNet/res_3_1/bn_1/moving_mean/biased [64],64\n",
      "HighRes3DNet/res_2_0/bn_1/HighRes3DNet/res_2_0/bn_1/moving_variance/local_step [],1.0\n",
      "HighRes3DNet/res_1_2/bn_0/gamma [16],16\n",
      "HighRes3DNet/conv_1_bn_leakyrelu/bn_/HighRes3DNet/conv_1_bn_leakyrelu/bn_/moving_mean/biased [80],80\n",
      "HighRes3DNet/res_1_1/bn_0/HighRes3DNet/res_1_1/bn_0/moving_mean/local_step [],1.0\n",
      "HighRes3DNet/res_3_2/bn_1/beta [64],64\n",
      "HighRes3DNet/conv_0_bn_leakyrelu/bn_/beta [16],16\n",
      "HighRes3DNet/conv_2_bn/conv_/w [1, 1, 1, 80, 2],160\n",
      "HighRes3DNet/conv_1_bn_leakyrelu/bn_/HighRes3DNet/conv_1_bn_leakyrelu/bn_/moving_mean/local_step [],1.0\n",
      "HighRes3DNet/conv_0_bn_leakyrelu/conv_/w [3, 3, 3, 2, 16],864\n",
      "HighRes3DNet/res_1_0/bn_0/moving_mean [16],16\n",
      "HighRes3DNet/res_2_2/bn_1/HighRes3DNet/res_2_2/bn_1/moving_variance/local_step [],1.0\n",
      "HighRes3DNet/conv_1_bn_leakyrelu/bn_/moving_mean [80],80\n",
      "HighRes3DNet/res_2_1/bn_0/gamma [32],32\n",
      "HighRes3DNet/conv_2_bn/bn_/HighRes3DNet/conv_2_bn/bn_/moving_variance/local_step [],1.0\n",
      "HighRes3DNet/res_2_0/bn_1/moving_variance [32],32\n",
      "HighRes3DNet/conv_1_bn_leakyrelu/bn_/HighRes3DNet/conv_1_bn_leakyrelu/bn_/moving_variance/local_step [],1.0\n",
      "HighRes3DNet/conv_0_bn_leakyrelu/bn_/HighRes3DNet/conv_0_bn_leakyrelu/bn_/moving_mean/biased [16],16\n",
      "HighRes3DNet/res_3_2/bn_0/HighRes3DNet/res_3_2/bn_0/moving_variance/local_step [],1.0\n",
      "HighRes3DNet/res_1_0/bn_0/HighRes3DNet/res_1_0/bn_0/moving_mean/local_step [],1.0\n",
      "HighRes3DNet/conv_2_bn/bn_/HighRes3DNet/conv_2_bn/bn_/moving_mean/biased [2],2\n",
      "HighRes3DNet/res_1_2/bn_0/moving_variance [16],16\n",
      "HighRes3DNet/res_2_1/bn_1/HighRes3DNet/res_2_1/bn_1/moving_variance/biased [32],32\n",
      "HighRes3DNet/res_1_2/bn_0/HighRes3DNet/res_1_2/bn_0/moving_variance/biased [16],16\n",
      "HighRes3DNet/res_3_1/conv_0/w [3, 3, 3, 64, 64],110592\n",
      "HighRes3DNet/res_2_0/bn_0/HighRes3DNet/res_2_0/bn_0/moving_mean/biased [16],16\n",
      "ApplyGradients/beta2_power [],1.0\n",
      "HighRes3DNet/res_1_1/bn_1/HighRes3DNet/res_1_1/bn_1/moving_mean/local_step [],1.0\n",
      "HighRes3DNet/res_1_0/conv_0/w [3, 3, 3, 16, 16],6912\n",
      "HighRes3DNet/res_2_0/bn_1/moving_mean [32],32\n",
      "HighRes3DNet/conv_0_bn_leakyrelu/bn_/gamma [16],16\n",
      "HighRes3DNet/res_1_1/conv_0/w [3, 3, 3, 16, 16],6912\n",
      "HighRes3DNet/conv_0_bn_leakyrelu/bn_/HighRes3DNet/conv_0_bn_leakyrelu/bn_/moving_variance/local_step [],1.0\n",
      "HighRes3DNet/conv_1_bn_leakyrelu/bn_/gamma [80],80\n",
      "HighRes3DNet/conv_0_bn_leakyrelu/bn_/moving_variance [16],16\n",
      "HighRes3DNet/res_1_0/bn_1/beta [16],16\n",
      "HighRes3DNet/conv_1_bn_leakyrelu/bn_/moving_variance [80],80\n",
      "HighRes3DNet/conv_1_bn_leakyrelu/conv_/w [1, 1, 1, 64, 80],5120\n",
      "HighRes3DNet/conv_1_bn_leakyrelu/bn_/HighRes3DNet/conv_1_bn_leakyrelu/bn_/moving_variance/biased [80],80\n",
      "HighRes3DNet/conv_2_bn/bn_/beta [2],2\n",
      "HighRes3DNet/conv_0_bn_leakyrelu/bn_/HighRes3DNet/conv_0_bn_leakyrelu/bn_/moving_variance/biased [16],16\n",
      "HighRes3DNet/conv_2_bn/bn_/gamma [2],2\n",
      "HighRes3DNet/res_1_2/bn_0/HighRes3DNet/res_1_2/bn_0/moving_variance/local_step [],1.0\n",
      "HighRes3DNet/conv_2_bn/bn_/moving_mean [2],2\n",
      "HighRes3DNet/conv_1_bn_leakyrelu/bn_/beta [80],80\n",
      "HighRes3DNet/conv_2_bn/bn_/moving_variance [2],2\n",
      "HighRes3DNet/res_1_1/bn_1/moving_mean [16],16\n",
      "HighRes3DNet/res_1_1/bn_0/moving_variance [16],16\n",
      "HighRes3DNet/res_1_1/bn_1/moving_variance [16],16\n",
      "HighRes3DNet/res_2_0/bn_0/gamma [16],16\n",
      "HighRes3DNet/res_1_1/conv_1/w [3, 3, 3, 16, 16],6912\n",
      "HighRes3DNet/res_1_2/bn_1/HighRes3DNet/res_1_2/bn_1/moving_mean/biased [16],16\n",
      "HighRes3DNet/res_1_1/bn_1/HighRes3DNet/res_1_1/bn_1/moving_mean/biased [16],16\n",
      "HighRes3DNet/res_2_1/bn_0/beta [32],32\n",
      "HighRes3DNet/res_3_1/bn_0/HighRes3DNet/res_3_1/bn_0/moving_variance/biased [64],64\n",
      "HighRes3DNet/res_1_1/bn_0/HighRes3DNet/res_1_1/bn_0/moving_mean/biased [16],16\n",
      "HighRes3DNet/res_3_2/bn_1/moving_variance [64],64\n",
      "HighRes3DNet/res_1_2/bn_0/HighRes3DNet/res_1_2/bn_0/moving_mean/biased [16],16\n",
      "HighRes3DNet/res_3_1/bn_0/gamma [64],64\n",
      "HighRes3DNet/res_1_2/bn_0/HighRes3DNet/res_1_2/bn_0/moving_mean/local_step [],1.0\n",
      "HighRes3DNet/res_1_2/bn_0/beta [16],16\n",
      "HighRes3DNet/res_2_1/bn_0/moving_mean [32],32\n",
      "HighRes3DNet/res_3_2/bn_0/beta [64],64\n",
      "HighRes3DNet/res_1_2/bn_0/moving_mean [16],16\n",
      "HighRes3DNet/res_1_1/bn_0/HighRes3DNet/res_1_1/bn_0/moving_variance/biased [16],16\n",
      "HighRes3DNet/res_1_2/bn_1/HighRes3DNet/res_1_2/bn_1/moving_mean/local_step [],1.0\n",
      "HighRes3DNet/res_1_2/bn_1/HighRes3DNet/res_1_2/bn_1/moving_variance/biased [16],16\n",
      "HighRes3DNet/res_1_2/bn_1/beta [16],16\n",
      "HighRes3DNet/res_2_1/bn_0/HighRes3DNet/res_2_1/bn_0/moving_mean/biased [32],32\n",
      "ApplyGradients/beta1_power [],1.0\n",
      "HighRes3DNet/res_3_2/bn_1/HighRes3DNet/res_3_2/bn_1/moving_mean/biased [64],64\n",
      "HighRes3DNet/res_3_2/bn_1/gamma [64],64\n",
      "HighRes3DNet/res_1_2/bn_1/moving_mean [16],16\n",
      "HighRes3DNet/res_3_0/bn_0/HighRes3DNet/res_3_0/bn_0/moving_mean/local_step [],1.0\n",
      "HighRes3DNet/res_2_2/bn_0/HighRes3DNet/res_2_2/bn_0/moving_variance/biased [32],32\n",
      "HighRes3DNet/res_3_1/bn_0/HighRes3DNet/res_3_1/bn_0/moving_mean/local_step [],1.0\n",
      "HighRes3DNet/res_1_2/conv_0/w [3, 3, 3, 16, 16],6912\n",
      "HighRes3DNet/res_1_2/conv_1/w [3, 3, 3, 16, 16],6912\n",
      "HighRes3DNet/res_1_0/bn_0/HighRes3DNet/res_1_0/bn_0/moving_mean/biased [16],16\n",
      "HighRes3DNet/res_2_1/bn_1/HighRes3DNet/res_2_1/bn_1/moving_mean/biased [32],32\n",
      "HighRes3DNet/res_2_0/bn_0/HighRes3DNet/res_2_0/bn_0/moving_mean/local_step [],1.0\n",
      "HighRes3DNet/res_2_0/bn_0/HighRes3DNet/res_2_0/bn_0/moving_variance/biased [16],16\n",
      "HighRes3DNet/res_3_2/bn_0/gamma [64],64\n",
      "HighRes3DNet/res_3_0/conv_0/w [3, 3, 3, 32, 64],55296\n",
      "HighRes3DNet/res_1_2/bn_1/HighRes3DNet/res_1_2/bn_1/moving_variance/local_step [],1.0\n",
      "HighRes3DNet/res_2_0/bn_0/HighRes3DNet/res_2_0/bn_0/moving_variance/local_step [],1.0\n",
      "HighRes3DNet/res_2_0/bn_0/beta [16],16\n",
      "HighRes3DNet/res_3_0/bn_1/gamma [64],64\n",
      "HighRes3DNet/res_2_0/bn_1/HighRes3DNet/res_2_0/bn_1/moving_mean/biased [32],32\n",
      "HighRes3DNet/res_1_0/bn_1/gamma [16],16\n",
      "HighRes3DNet/res_2_0/bn_1/HighRes3DNet/res_2_0/bn_1/moving_variance/biased [32],32\n",
      "HighRes3DNet/res_2_0/bn_1/beta [32],32\n",
      "HighRes3DNet/res_2_0/conv_0/w [3, 3, 3, 16, 32],13824\n",
      "HighRes3DNet/res_2_0/conv_1/w [3, 3, 3, 32, 32],27648\n",
      "HighRes3DNet/res_2_1/bn_1/HighRes3DNet/res_2_1/bn_1/moving_variance/local_step [],1.0\n",
      "HighRes3DNet/res_2_1/bn_0/HighRes3DNet/res_2_1/bn_0/moving_mean/local_step [],1.0\n",
      "HighRes3DNet/res_1_2/bn_1/moving_variance [16],16\n",
      "HighRes3DNet/res_2_1/bn_0/HighRes3DNet/res_2_1/bn_0/moving_variance/biased [32],32\n",
      "HighRes3DNet/res_2_1/bn_1/beta [32],32\n",
      "HighRes3DNet/res_2_1/bn_0/HighRes3DNet/res_2_1/bn_0/moving_variance/local_step [],1.0\n",
      "HighRes3DNet/res_2_2/bn_0/HighRes3DNet/res_2_2/bn_0/moving_variance/local_step [],1.0\n",
      "HighRes3DNet/res_2_1/bn_1/moving_mean [32],32\n",
      "HighRes3DNet/res_2_1/bn_0/moving_variance [32],32\n",
      "HighRes3DNet/res_2_1/bn_1/gamma [32],32\n",
      "HighRes3DNet/res_2_0/bn_0/moving_variance [16],16\n",
      "HighRes3DNet/res_2_1/bn_1/moving_variance [32],32\n",
      "HighRes3DNet/res_1_1/bn_1/gamma [16],16\n",
      "HighRes3DNet/res_2_1/conv_1/w [3, 3, 3, 32, 32],27648\n",
      "HighRes3DNet/res_2_2/bn_0/HighRes3DNet/res_2_2/bn_0/moving_mean/biased [32],32\n",
      "Total Param Count: 812312\n"
     ]
    }
   ],
   "source": [
    "params = \"params.txt\"\n",
    "count_params(f'{PATH}model.ckpt-{iteration}', f'{SAVE_PATH}{params}')"
   ]
  },
  {
   "cell_type": "code",
   "execution_count": null,
   "metadata": {
    "collapsed": true
   },
   "outputs": [],
   "source": []
  },
  {
   "cell_type": "code",
   "execution_count": null,
   "metadata": {
    "collapsed": true
   },
   "outputs": [],
   "source": []
  }
 ],
 "metadata": {
  "kernelspec": {
   "display_name": "Python [conda env:fastai]",
   "language": "python",
   "name": "conda-env-fastai-py"
  },
  "language_info": {
   "codemirror_mode": {
    "name": "ipython",
    "version": 3
   },
   "file_extension": ".py",
   "mimetype": "text/x-python",
   "name": "python",
   "nbconvert_exporter": "python",
   "pygments_lexer": "ipython3",
   "version": "3.6.6"
  }
 },
 "nbformat": 4,
 "nbformat_minor": 2
}
