{
 "cells": [
  {
   "cell_type": "code",
   "execution_count": 9,
   "metadata": {},
   "outputs": [],
   "source": [
    "PATH = '/data-nas/sathiesh/niftynet_brain/saved_models/ixi/test_tl/'"
   ]
  },
  {
   "cell_type": "code",
   "execution_count": 10,
   "metadata": {},
   "outputs": [
    {
     "data": {
      "text/plain": [
       "'/home/sathiesh/niftynet_brain/nbs/brats'"
      ]
     },
     "execution_count": 10,
     "metadata": {},
     "output_type": "execute_result"
    }
   ],
   "source": [
    "SAVE_PATH = %pwd\n",
    "SAVE_PATH"
   ]
  },
  {
   "cell_type": "code",
   "execution_count": 11,
   "metadata": {},
   "outputs": [],
   "source": [
    "vars_to_restore= '^((?!HighRes3DNet\\/(conv_2)).)*$' #alle lagene utenom conv_2 \n",
    "#denne skal legge til i config filen til brats "
   ]
  },
  {
   "cell_type": "code",
   "execution_count": 12,
   "metadata": {},
   "outputs": [],
   "source": [
    "import tensorflow as tf\n",
    "\n",
    "# ckpt_path: full path to checkpoint file (e.g.: /path/to/ckpt/model.ckpt-###)\n",
    "# output_file: name of output file (e.g.: /path/to/file/net_vars.txt)\n",
    "def get_ckpt_vars(ckpt_path, output_file):\n",
    "    file = open(output_file, 'w+')\n",
    "    for var in tf.train.list_variables(ckpt_path):\n",
    "        file.write(str(var) + '\\n')\n",
    "    file.close()"
   ]
  },
  {
   "cell_type": "code",
   "execution_count": 14,
   "metadata": {},
   "outputs": [],
   "source": [
    "get_ckpt_vars(f'{PATH}model.ckpt-25000', f'{SAVE_PATH}/net_vars.txt')"
   ]
  },
  {
   "cell_type": "code",
   "execution_count": null,
   "metadata": {},
   "outputs": [],
   "source": []
  }
 ],
 "metadata": {
  "kernelspec": {
   "display_name": "Python 3",
   "language": "python",
   "name": "python3"
  },
  "language_info": {
   "codemirror_mode": {
    "name": "ipython",
    "version": 3
   },
   "file_extension": ".py",
   "mimetype": "text/x-python",
   "name": "python",
   "nbconvert_exporter": "python",
   "pygments_lexer": "ipython3",
   "version": "3.6.6"
  }
 },
 "nbformat": 4,
 "nbformat_minor": 2
}
