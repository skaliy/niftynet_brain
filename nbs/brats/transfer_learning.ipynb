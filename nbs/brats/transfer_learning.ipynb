{
 "cells": [
  {
   "cell_type": "code",
   "execution_count": 31,
   "metadata": {},
   "outputs": [],
   "source": [
    "PATH = '/data-nas/sathiesh/niftynet_brain/saved_models/ixi/b3_hippocampus/'"
   ]
  },
  {
   "cell_type": "code",
   "execution_count": 32,
   "metadata": {},
   "outputs": [],
   "source": [
    "#TEST_PATH = '/data-nas/sathiesh/niftynet_brain/saved_models/brats/new_data/scratch/'"
   ]
  },
  {
   "cell_type": "code",
   "execution_count": 33,
   "metadata": {},
   "outputs": [],
   "source": [
    "SAVE_PATH = %pwd\n",
    "SAVE_PATH = f'{SAVE_PATH}/../../config/brats'"
   ]
  },
  {
   "cell_type": "code",
   "execution_count": 34,
   "metadata": {},
   "outputs": [],
   "source": [
    "#vars_to_restore= '^((?!HighRes3DNet\\/(conv_2)).)*$' #alle lagene utenom conv_2 \n",
    "#denne skal legge til i config filen til brats "
   ]
  },
  {
   "cell_type": "code",
   "execution_count": 35,
   "metadata": {},
   "outputs": [],
   "source": [
    "import tensorflow as tf\n",
    "\n",
    "# ckpt_path: full path to checkpoint file (e.g.: /path/to/ckpt/model.ckpt-###)\n",
    "# output_file: name of output file (e.g.: /path/to/file/net_vars.txt)\n",
    "def get_ckpt_vars(ckpt_path, output_file):\n",
    "    file = open(output_file, 'w+')\n",
    "    for var in tf.train.list_variables(ckpt_path):\n",
    "        file.write(str(var) + '\\n')\n",
    "    file.close()"
   ]
  },
  {
   "cell_type": "code",
   "execution_count": 36,
   "metadata": {},
   "outputs": [],
   "source": [
    "filename = \"net_vars.txt\"\n",
    "test = \"ekte_brats.txt\""
   ]
  },
  {
   "cell_type": "code",
   "execution_count": 37,
   "metadata": {},
   "outputs": [],
   "source": [
    "iteration = 5558"
   ]
  },
  {
   "cell_type": "code",
   "execution_count": 38,
   "metadata": {},
   "outputs": [],
   "source": [
    "get_ckpt_vars(f'{PATH}model.ckpt-{iteration}', f'{SAVE_PATH}/{filename}')"
   ]
  },
  {
   "cell_type": "code",
   "execution_count": null,
   "metadata": {},
   "outputs": [],
   "source": []
  },
  {
   "cell_type": "code",
   "execution_count": null,
   "metadata": {},
   "outputs": [],
   "source": []
  },
  {
   "cell_type": "code",
   "execution_count": null,
   "metadata": {},
   "outputs": [],
   "source": []
  }
 ],
 "metadata": {
  "kernelspec": {
   "display_name": "Python 3",
   "language": "python",
   "name": "python3"
  },
  "language_info": {
   "codemirror_mode": {
    "name": "ipython",
    "version": 3
   },
   "file_extension": ".py",
   "mimetype": "text/x-python",
   "name": "python",
   "nbconvert_exporter": "python",
   "pygments_lexer": "ipython3",
   "version": "3.6.6"
  }
 },
 "nbformat": 4,
 "nbformat_minor": 2
}
