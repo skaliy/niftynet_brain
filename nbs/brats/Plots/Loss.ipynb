{
 "cells": [
  {
   "cell_type": "code",
   "execution_count": 82,
   "metadata": {
    "collapsed": true
   },
   "outputs": [],
   "source": [
    "import numpy as np \n",
    "import pandas as pd \n",
    "import sys, os \n",
    "import csv \n",
    "import matplotlib.pyplot as plt"
   ]
  },
  {
   "cell_type": "code",
   "execution_count": 83,
   "metadata": {
    "collapsed": true
   },
   "outputs": [],
   "source": [
    "#PATH = %pwd \n",
    "PATH = '/home/sathiesh/layer_study/loss/'"
   ]
  },
  {
   "cell_type": "code",
   "execution_count": 94,
   "metadata": {
    "collapsed": true
   },
   "outputs": [],
   "source": [
    "filename_0 = f'{PATH}run_brats_layer0_logs_0_training-tag-worker_0_loss.csv'\n",
    "filename_1 = f'{PATH}run_brats_layer1_logs_0_training-tag-worker_0_loss.csv'\n",
    "filename_2 = f'{PATH}run_brats_layer2_logs_0_training-tag-worker_0_loss.csv'\n",
    "filename_3 = f'{PATH}run_brats_layer3_logs_0_training-tag-worker_0_loss.csv'\n",
    "filename_4 = f'{PATH}run_4_training-tag-worker_0_loss.csv'\n",
    "filename_5 = f'{PATH}run_5_training-tag-worker_0_loss.csv'\n",
    "\n",
    "#filename_0 = f'{PATH}run_brats_layer0_logs_0_validation-tag-worker_0_loss.csv'\n",
    "#filename_1 = f'{PATH}run_brats_layer1_logs_0_validation-tag-worker_0_loss.csv'\n",
    "#filename_2 = f'{PATH}run_brats_layer2_logs_0_validation-tag-worker_0_loss.csv'\n",
    "#filename_3 = f'{PATH}run_brats_layer3_logs_0_validation-tag-worker_0_loss.csv'\n",
    "#filename_4 = f'{PATH}run_4_validation-tag-worker_0_loss.csv'\n",
    "#filename_5 = f'{PATH}run_5_validation-tag-worker_0_loss.csv'"
   ]
  },
  {
   "cell_type": "code",
   "execution_count": null,
   "metadata": {
    "collapsed": true
   },
   "outputs": [],
   "source": []
  },
  {
   "cell_type": "code",
   "execution_count": 95,
   "metadata": {
    "collapsed": true
   },
   "outputs": [],
   "source": [
    "df0,df1,df2,df3,df4,df5 = pd.read_csv(filename_0),pd.read_csv(filename_1),pd.read_csv(filename_2),pd.read_csv(filename_3),pd.read_csv(filename_4),pd.read_csv(filename_5) "
   ]
  },
  {
   "cell_type": "code",
   "execution_count": 97,
   "metadata": {
    "collapsed": true
   },
   "outputs": [],
   "source": [
    "x = np.array(df4['Step'])\n",
    "y_0 = df0['Value']\n",
    "y_1 = df1['Value']\n",
    "y_2 = df2['Value']\n",
    "y_3 = df3['Value']\n",
    "y_4 = df4['Value']\n",
    "y_5 = df5['Value']"
   ]
  },
  {
   "cell_type": "code",
   "execution_count": 98,
   "metadata": {
    "collapsed": false
   },
   "outputs": [
    {
     "data": {
      "text/plain": [
       "array([   5,   10,   15,   20,   25,   30,   35,   40,   45,   50,   55,\n",
       "         60,   65,   70,   75,   80,   85,   90,   95,  100,  105,  110,\n",
       "        115,  120,  125,  130,  135,  140,  145,  150,  155,  160,  165,\n",
       "        170,  175,  180,  185,  190,  195,  200,  205,  210,  215,  220,\n",
       "        225,  230,  235,  240,  245,  250,  255,  260,  265,  270,  275,\n",
       "        280,  285,  290,  295,  300,  305,  310,  315,  320,  325,  330,\n",
       "        335,  340,  345,  350,  355,  360,  365,  370,  375,  380,  385,\n",
       "        390,  395,  400,  405,  410,  415,  420,  425,  430,  435,  440,\n",
       "        445,  450,  455,  460,  465,  470,  475,  480,  485,  490,  495,\n",
       "        500,  505,  510,  515,  520,  525,  530,  535,  540,  545,  550,\n",
       "        555,  560,  565,  570,  575,  580,  585,  590,  595,  600,  605,\n",
       "        610,  615,  620,  625,  630,  635,  640,  645,  650,  655,  660,\n",
       "        665,  670,  675,  680,  685,  690,  695,  700,  705,  710,  715,\n",
       "        720,  725,  730,  735,  740,  745,  750,  755,  760,  765,  770,\n",
       "        775,  780,  785,  790,  795,  800,  805,  810,  815,  820,  825,\n",
       "        830,  835,  840,  845,  850,  855,  860,  865,  870,  875,  880,\n",
       "        885,  890,  895,  900,  905,  910,  915,  920,  925,  930,  935,\n",
       "        940,  945,  950,  955,  960,  965,  970,  975,  980,  985,  990,\n",
       "        995, 1000, 1005, 1010, 1015, 1020, 1025, 1030, 1035, 1040, 1045,\n",
       "       1050, 1055, 1060, 1065, 1070, 1075, 1080, 1085, 1090, 1095, 1100,\n",
       "       1105, 1110, 1115, 1120, 1125, 1130, 1135, 1140, 1145, 1150, 1155,\n",
       "       1160, 1165, 1170, 1175, 1180, 1185, 1190, 1195, 1200, 1205, 1210,\n",
       "       1215, 1220, 1225, 1230, 1235, 1240, 1245, 1250, 1255, 1260, 1265,\n",
       "       1270, 1275, 1280, 1285, 1290, 1295, 1300, 1305, 1310, 1315, 1320,\n",
       "       1325, 1330, 1335, 1340, 1345, 1350, 1355, 1360, 1365, 1370, 1375,\n",
       "       1380, 1385, 1390, 1395, 1400, 1405, 1410, 1415, 1420, 1425, 1430,\n",
       "       1435, 1440, 1445, 1450, 1455, 1460, 1465, 1470, 1475, 1480, 1485,\n",
       "       1490, 1495, 1500, 1505, 1510, 1515, 1520, 1525, 1530, 1535, 1540,\n",
       "       1545, 1550, 1555, 1560, 1565, 1570, 1575, 1580, 1585, 1590, 1595,\n",
       "       1600, 1605, 1610, 1615, 1620, 1625, 1630, 1635, 1640, 1645, 1650,\n",
       "       1655, 1660, 1665, 1670, 1675, 1680, 1685, 1690, 1695, 1700, 1705,\n",
       "       1710, 1715, 1720, 1725, 1730, 1735, 1740, 1745, 1750, 1755, 1760,\n",
       "       1765, 1770, 1775, 1780, 1785, 1790, 1795, 1800, 1805, 1810, 1815,\n",
       "       1820, 1825, 1830, 1835, 1840, 1845, 1850, 1855, 1860, 1865, 1870,\n",
       "       1875, 1880, 1885, 1890, 1895, 1900, 1905, 1910, 1915, 1920, 1925,\n",
       "       1930, 1935, 1940, 1945, 1950, 1955, 1960, 1965, 1970, 1975, 1980,\n",
       "       1985, 1990, 1995, 2000])"
      ]
     },
     "execution_count": 98,
     "metadata": {},
     "output_type": "execute_result"
    }
   ],
   "source": [
    "x"
   ]
  },
  {
   "cell_type": "code",
   "execution_count": 99,
   "metadata": {
    "collapsed": false
   },
   "outputs": [],
   "source": [
    "# HACK siden val 4 og 5 \n",
    "#x = np.array(df0['Step'])[array]\n",
    "#y_0 = df0['Value'][array]\n",
    "#y_1 = df1['Value'][array]\n",
    "#y_2 = df2['Value'][array]\n",
    "#y_3 = df3['Value'][array]\n",
    "#y_4 = df4['Value']\n",
    "#y_5 = df5['Value']"
   ]
  },
  {
   "cell_type": "code",
   "execution_count": 100,
   "metadata": {
    "collapsed": false
   },
   "outputs": [
    {
     "name": "stderr",
     "output_type": "stream",
     "text": [
      "/home/sathiesh/.conda/envs/fastai/lib/python3.6/site-packages/ipykernel/__main__.py:4: DeprecationWarning: `spline` is deprecated!\n",
      "spline is deprecated in scipy 0.19.0, use Bspline class instead.\n",
      "/home/sathiesh/.conda/envs/fastai/lib/python3.6/site-packages/ipykernel/__main__.py:5: DeprecationWarning: `spline` is deprecated!\n",
      "spline is deprecated in scipy 0.19.0, use Bspline class instead.\n",
      "/home/sathiesh/.conda/envs/fastai/lib/python3.6/site-packages/ipykernel/__main__.py:6: DeprecationWarning: `spline` is deprecated!\n",
      "spline is deprecated in scipy 0.19.0, use Bspline class instead.\n",
      "/home/sathiesh/.conda/envs/fastai/lib/python3.6/site-packages/ipykernel/__main__.py:7: DeprecationWarning: `spline` is deprecated!\n",
      "spline is deprecated in scipy 0.19.0, use Bspline class instead.\n",
      "/home/sathiesh/.conda/envs/fastai/lib/python3.6/site-packages/ipykernel/__main__.py:8: DeprecationWarning: `spline` is deprecated!\n",
      "spline is deprecated in scipy 0.19.0, use Bspline class instead.\n",
      "/home/sathiesh/.conda/envs/fastai/lib/python3.6/site-packages/ipykernel/__main__.py:9: DeprecationWarning: `spline` is deprecated!\n",
      "spline is deprecated in scipy 0.19.0, use Bspline class instead.\n"
     ]
    }
   ],
   "source": [
    "from scipy.interpolate import spline\n",
    "xnew = np.linspace(x.min(),x.max(),2)\n",
    "\n",
    "y_0_smooth = spline(x,y_0,xnew)\n",
    "y_1_smooth = spline(x,y_1,xnew)\n",
    "y_2_smooth = spline(x,y_2,xnew)\n",
    "y_3_smooth = spline(x,y_3,xnew)\n",
    "y_4_smooth = spline(x,y_4,xnew)\n",
    "y_5_smooth = spline(x,y_5,xnew)"
   ]
  },
  {
   "cell_type": "code",
   "execution_count": null,
   "metadata": {
    "collapsed": false
   },
   "outputs": [],
   "source": []
  },
  {
   "cell_type": "code",
   "execution_count": 101,
   "metadata": {
    "collapsed": true
   },
   "outputs": [],
   "source": [
    "import matplotlib.ticker as mtick"
   ]
  },
  {
   "cell_type": "code",
   "execution_count": 103,
   "metadata": {
    "collapsed": false
   },
   "outputs": [
    {
     "data": {
      "image/png": "[encoded data removed]",
      "text/plain": [
       "<Figure size 432x288 with 1 Axes>"
      ]
     },
     "metadata": {
      "needs_background": "light"
     },
     "output_type": "display_data"
    }
   ],
   "source": [
    "fig, ax = plt.subplots()\n",
    "ax.plot(xnew,y_0_smooth ,'#8fbcda',linewidth=4, label ='Scratch')\n",
    "ax.plot(xnew,y_1_smooth ,'#e4acb2',linewidth=4, label ='Model 1')\n",
    "ax.plot(xnew,y_2_smooth, '#a2e0bb',linewidth=4, label ='Model 2')\n",
    "ax.plot(xnew,y_3_smooth, '#c9ceed',linewidth=4, label ='Model 3')\n",
    "ax.plot(xnew,y_4_smooth, '#ffdaad',linewidth=4, label ='Model 4')\n",
    "ax.plot(xnew,y_5_smooth, '#B2B2B2',linewidth=4, label ='Model 5')\n",
    "plt.legend(bbox_to_anchor=(0.8, 1), loc=2, borderaxespad=0., prop={'size': 16})\n",
    "# Hide the right and top spines\n",
    "plt.xlabel('Iterations', fontsize=15)\n",
    "plt.ylabel('Training loss', fontsize=15)\n",
    "ax.spines['right'].set_visible(False)\n",
    "ax.spines['top'].set_visible(False)\n",
    "plt.show()"
   ]
  },
  {
   "cell_type": "code",
   "execution_count": 104,
   "metadata": {
    "collapsed": true
   },
   "outputs": [],
   "source": [
    "fig.set_size_inches(16.5, 10)\n",
    "fig.savefig('training.png', format='png')\n",
    "#fig.savefig('validation.png', format='png')"
   ]
  },
  {
   "cell_type": "code",
   "execution_count": null,
   "metadata": {
    "collapsed": true
   },
   "outputs": [],
   "source": []
  }
 ],
 "metadata": {
  "kernelspec": {
   "display_name": "Python [conda env:fastai]",
   "language": "python",
   "name": "conda-env-fastai-py"
  },
  "language_info": {
   "codemirror_mode": {
    "name": "ipython",
    "version": 3
   },
   "file_extension": ".py",
   "mimetype": "text/x-python",
   "name": "python",
   "nbconvert_exporter": "python",
   "pygments_lexer": "ipython3",
   "version": "3.6.6"
  }
 },
 "nbformat": 4,
 "nbformat_minor": 2
}
