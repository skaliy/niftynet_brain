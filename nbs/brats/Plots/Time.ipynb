{
 "cells": [
  {
   "cell_type": "code",
   "execution_count": 48,
   "metadata": {
    "collapsed": true
   },
   "outputs": [],
   "source": [
    "import numpy as np \n",
    "import pandas as pd \n",
    "import sys, os \n",
    "import csv \n",
    "import matplotlib.pyplot as plt"
   ]
  },
  {
   "cell_type": "code",
   "execution_count": 49,
   "metadata": {
    "collapsed": true
   },
   "outputs": [],
   "source": [
    "PATH = %pwd \n",
    "PATH = str(PATH) + '/experiment_layers/'"
   ]
  },
  {
   "cell_type": "code",
   "execution_count": 50,
   "metadata": {
    "collapsed": true
   },
   "outputs": [],
   "source": [
    "#filename_0 = f'{PATH}run_0_training-tag-worker_0_loss.csv'\n",
    "#filename_1 = f'{PATH}run_1_training-tag-worker_0_loss.csv'\n",
    "#filename_2 = f'{PATH}run_2_training-tag-worker_0_loss.csv'\n",
    "#filename_3 = f'{PATH}run_3_training-tag-worker_0_loss.csv'\n",
    "#filename_4 = f'{PATH}run_4_training-tag-worker_0_loss.csv'\n",
    "#filename_5 = f'{PATH}run_5_training-tag-worker_0_loss.csv'\n",
    "filename_0 = f'{PATH}run_0_validation-tag-worker_0_loss.csv'\n",
    "filename_1 = f'{PATH}run_1_validation-tag-worker_0_loss.csv'\n",
    "filename_2 = f'{PATH}run_2_validation-tag-worker_0_loss.csv'\n",
    "filename_3 = f'{PATH}run_3_validation-tag-worker_0_loss.csv'\n",
    "filename_4 = f'{PATH}run_4_validation-tag-worker_0_loss.csv'\n",
    "filename_5 = f'{PATH}run_5_validation-tag-worker_0_loss.csv'"
   ]
  },
  {
   "cell_type": "code",
   "execution_count": null,
   "metadata": {
    "collapsed": true
   },
   "outputs": [],
   "source": []
  },
  {
   "cell_type": "code",
   "execution_count": 51,
   "metadata": {
    "collapsed": true
   },
   "outputs": [],
   "source": [
    "df0,df1,df2,df3,df4,df5 = pd.read_csv(filename_0),pd.read_csv(filename_1),pd.read_csv(filename_2),pd.read_csv(filename_3),pd.read_csv(filename_4),pd.read_csv(filename_5) "
   ]
  },
  {
   "cell_type": "code",
   "execution_count": 52,
   "metadata": {
    "collapsed": true
   },
   "outputs": [],
   "source": [
    "datetime = np.array(df1['Wall time'])"
   ]
  },
  {
   "cell_type": "code",
   "execution_count": 53,
   "metadata": {
    "collapsed": true
   },
   "outputs": [],
   "source": [
    "from time import time, ctime\n",
    "start = ctime(datetime[0])\n",
    "done = ctime(datetime[-1])"
   ]
  },
  {
   "cell_type": "code",
   "execution_count": 54,
   "metadata": {
    "collapsed": false
   },
   "outputs": [
    {
     "data": {
      "text/plain": [
       "('Mon May  6 15:47:13 2019', 'Mon May  6 17:23:15 2019')"
      ]
     },
     "execution_count": 54,
     "metadata": {},
     "output_type": "execute_result"
    }
   ],
   "source": [
    "start, done"
   ]
  },
  {
   "cell_type": "code",
   "execution_count": 55,
   "metadata": {
    "collapsed": false
   },
   "outputs": [
    {
     "name": "stdout",
     "output_type": "stream",
     "text": [
      "15:47:13 17:23:15\n"
     ]
    }
   ],
   "source": [
    "s1 = start[11:19]\n",
    "s2 = done[11:19]\n",
    "print(s1, s2)"
   ]
  },
  {
   "cell_type": "code",
   "execution_count": 56,
   "metadata": {
    "collapsed": false
   },
   "outputs": [
    {
     "data": {
      "text/plain": [
       "'15:47:13'"
      ]
     },
     "execution_count": 56,
     "metadata": {},
     "output_type": "execute_result"
    }
   ],
   "source": [
    "s1"
   ]
  },
  {
   "cell_type": "code",
   "execution_count": 57,
   "metadata": {
    "collapsed": false
   },
   "outputs": [
    {
     "data": {
      "text/plain": [
       "96.03333333333333"
      ]
     },
     "execution_count": 57,
     "metadata": {},
     "output_type": "execute_result"
    }
   ],
   "source": [
    "from datetime import datetime\n",
    "FMT = '%H:%M:%S'\n",
    "tdelta = datetime.strptime(s2, FMT) - datetime.strptime(s1, FMT)\n",
    "tdelta.seconds/60"
   ]
  },
  {
   "cell_type": "code",
   "execution_count": 58,
   "metadata": {
    "collapsed": true
   },
   "outputs": [],
   "source": [
    "x = np.array(df0['Step'])\n",
    "y_0 = df0['Value']\n",
    "y_1 = df1['Value']\n",
    "y_2 = df2['Value']\n",
    "y_3 = df3['Value']\n",
    "y_4 = df4['Value']\n",
    "y_5 = df5['Value']"
   ]
  },
  {
   "cell_type": "code",
   "execution_count": 59,
   "metadata": {
    "collapsed": false
   },
   "outputs": [
    {
     "data": {
      "text/plain": [
       "0.4040624143183231"
      ]
     },
     "execution_count": 59,
     "metadata": {},
     "output_type": "execute_result"
    }
   ],
   "source": [
    "np.average(y_0)"
   ]
  }
 ],
 "metadata": {
  "kernelspec": {
   "display_name": "Python [conda env:fastai]",
   "language": "python",
   "name": "conda-env-fastai-py"
  },
  "language_info": {
   "codemirror_mode": {
    "name": "ipython",
    "version": 3
   },
   "file_extension": ".py",
   "mimetype": "text/x-python",
   "name": "python",
   "nbconvert_exporter": "python",
   "pygments_lexer": "ipython3",
   "version": "3.6.6"
  }
 },
 "nbformat": 4,
 "nbformat_minor": 2
}
