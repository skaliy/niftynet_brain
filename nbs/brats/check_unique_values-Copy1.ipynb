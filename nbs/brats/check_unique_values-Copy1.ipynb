{
 "cells": [
  {
   "cell_type": "code",
   "execution_count": 32,
   "metadata": {},
   "outputs": [],
   "source": [
    "import sys, os\n",
    "import glob\n",
    "from pprint import pprint\n",
    "import csv\n",
    "from pathlib import Path\n",
    "import numpy as np"
   ]
  },
  {
   "cell_type": "code",
   "execution_count": 33,
   "metadata": {},
   "outputs": [],
   "source": [
    "DATA = Path('')"
   ]
  },
  {
   "cell_type": "code",
   "execution_count": 34,
   "metadata": {},
   "outputs": [],
   "source": [
    "studies_path = sorted(glob.glob(str(DATA)+'/*'))"
   ]
  },
  {
   "cell_type": "code",
   "execution_count": 35,
   "metadata": {},
   "outputs": [],
   "source": [
    "from utils import write_nifti, load_nifti"
   ]
  },
  {
   "cell_type": "code",
   "execution_count": 36,
   "metadata": {},
   "outputs": [],
   "source": [
    "def unique_values(studies_path):\n",
    " \n",
    "    count_values = {}\n",
    "    for path in studies_path:\n",
    "        study_id = (path.split(\"/\")[-1])\n",
    "        imgfn = (path + \"/\"+ study_id +\"_m.nii.gz\")\n",
    "        \n",
    "        img, rnx, rny, rnz, data, affine = load_nifti(imgfn)\n",
    "        \n",
    "        np_arr = np.unique(data) #unqiue values in a matrix \n",
    "        for i in np_arr: \n",
    "            if i in count_values: count_values[i] += 1 \n",
    "            else: count_values[i] = 1\n",
    "                \n",
    "    return count_values"
   ]
  },
  {
   "cell_type": "code",
   "execution_count": 37,
   "metadata": {},
   "outputs": [
    {
     "data": {
      "text/plain": [
       "{0: 577,\n",
       " 1: 577,\n",
       " 2: 577,\n",
       " 3: 577,\n",
       " 4: 577,\n",
       " 5: 577,\n",
       " 6: 577,\n",
       " 7: 577,\n",
       " 8: 577,\n",
       " 9: 577,\n",
       " 10: 577,\n",
       " 11: 577,\n",
       " 12: 577,\n",
       " 13: 577,\n",
       " 14: 577,\n",
       " 15: 577,\n",
       " 16: 577,\n",
       " 17: 577,\n",
       " 18: 577,\n",
       " 19: 577,\n",
       " 20: 577,\n",
       " 21: 577,\n",
       " 22: 577,\n",
       " 23: 577,\n",
       " 24: 577,\n",
       " 25: 577,\n",
       " 26: 577,\n",
       " 27: 577,\n",
       " 28: 577,\n",
       " 29: 577,\n",
       " 30: 577,\n",
       " 31: 577,\n",
       " 32: 577,\n",
       " 33: 577,\n",
       " 34: 577,\n",
       " 35: 577,\n",
       " 36: 577,\n",
       " 37: 577,\n",
       " 38: 577,\n",
       " 39: 577,\n",
       " 40: 577,\n",
       " 41: 577}"
      ]
     },
     "execution_count": 37,
     "metadata": {},
     "output_type": "execute_result"
    }
   ],
   "source": [
    "dic_classes = unique_values(studies_path)\n",
    "dic_classes"
   ]
  },
  {
   "cell_type": "code",
   "execution_count": null,
   "metadata": {},
   "outputs": [],
   "source": []
  }
 ],
 "metadata": {
  "kernelspec": {
   "display_name": "Python 3",
   "language": "python",
   "name": "python3"
  },
  "language_info": {
   "codemirror_mode": {
    "name": "ipython",
    "version": 3
   },
   "file_extension": ".py",
   "mimetype": "text/x-python",
   "name": "python",
   "nbconvert_exporter": "python",
   "pygments_lexer": "ipython3",
   "version": "3.6.6"
  }
 },
 "nbformat": 4,
 "nbformat_minor": 2
}
