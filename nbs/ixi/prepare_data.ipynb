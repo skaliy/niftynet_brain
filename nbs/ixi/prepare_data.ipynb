{
 "cells": [
  {
   "cell_type": "code",
   "execution_count": 206,
   "metadata": {},
   "outputs": [],
   "source": [
    "import sys, os\n",
    "import glob\n",
    "from pprint import pprint\n",
    "import csv\n",
    "from pathlib import Path\n",
    "import numpy as np\n",
    "import shutil"
   ]
  },
  {
   "cell_type": "code",
   "execution_count": 207,
   "metadata": {},
   "outputs": [],
   "source": [
    "DATA = Path('/data-nas/brains/IXI_Dataset/interim_copy_test')"
   ]
  },
  {
   "cell_type": "code",
   "execution_count": 208,
   "metadata": {},
   "outputs": [],
   "source": [
    "studies_path = sorted(glob.glob(str(DATA)+'/*'))"
   ]
  },
  {
   "cell_type": "code",
   "execution_count": 209,
   "metadata": {},
   "outputs": [],
   "source": [
    "from utils import write_nifti, load_nifti"
   ]
  },
  {
   "cell_type": "code",
   "execution_count": 210,
   "metadata": {},
   "outputs": [],
   "source": [
    "def unique_values(studies_path):\n",
    " \n",
    "    count_values = {}\n",
    "    for path in studies_path:\n",
    "        study_id = (path.split(\"/\")[-1])\n",
    "        imgfn = (path + \"/\"+ study_id +\"_seg.nii.gz\")\n",
    "        \n",
    "        img, rnx, rny, rnz, data, affine = load_nifti(imgfn)\n",
    "        \n",
    "        np_arr = np.unique(data) #unqiue values in a matrix \n",
    "        for i in np_arr: \n",
    "            if i in count_values: count_values[i] += 1 \n",
    "            else: count_values[i] = 1\n",
    "                \n",
    "    return count_values"
   ]
  },
  {
   "cell_type": "code",
   "execution_count": 211,
   "metadata": {},
   "outputs": [],
   "source": [
    "dic_classes = unique_values(studies_path)"
   ]
  },
  {
   "cell_type": "code",
   "execution_count": 212,
   "metadata": {},
   "outputs": [],
   "source": [
    "num_images = dic_classes[0] #klasse 0 vil vaere i alle bildene, altså 577 for IXI \n",
    "dc = {}\n",
    "i = 0.\n",
    "#hvis ikke klassen samsvarer med num_images, så settes den til 0 \n",
    "for key, value in dic_classes.items():\n",
    "    if value != num_images: \n",
    "        dc[key] = 0.\n",
    "    else: \n",
    "        dc[key] = i \n",
    "        i +=1"
   ]
  },
  {
   "cell_type": "code",
   "execution_count": 213,
   "metadata": {},
   "outputs": [
    {
     "data": {
      "text/plain": [
       "{0.0: 0.0,\n",
       " 2.0: 1.0,\n",
       " 3.0: 2.0,\n",
       " 4.0: 3.0,\n",
       " 5.0: 4.0,\n",
       " 7.0: 5.0,\n",
       " 8.0: 6.0,\n",
       " 10.0: 7.0,\n",
       " 11.0: 8.0,\n",
       " 12.0: 9.0,\n",
       " 13.0: 10.0,\n",
       " 14.0: 11.0,\n",
       " 15.0: 12.0,\n",
       " 16.0: 13.0,\n",
       " 17.0: 14.0,\n",
       " 18.0: 15.0,\n",
       " 24.0: 16.0,\n",
       " 26.0: 17.0,\n",
       " 28.0: 18.0,\n",
       " 30.0: 0.0,\n",
       " 31.0: 19.0,\n",
       " 41.0: 20.0,\n",
       " 42.0: 21.0,\n",
       " 43.0: 22.0,\n",
       " 44.0: 23.0,\n",
       " 46.0: 24.0,\n",
       " 47.0: 25.0,\n",
       " 49.0: 26.0,\n",
       " 50.0: 27.0,\n",
       " 51.0: 28.0,\n",
       " 52.0: 29.0,\n",
       " 53.0: 30.0,\n",
       " 54.0: 31.0,\n",
       " 58.0: 32.0,\n",
       " 60.0: 33.0,\n",
       " 62.0: 0.0,\n",
       " 63.0: 34.0,\n",
       " 77.0: 35.0,\n",
       " 85.0: 36.0,\n",
       " 251.0: 37.0,\n",
       " 252.0: 38.0,\n",
       " 253.0: 39.0,\n",
       " 254.0: 40.0,\n",
       " 255.0: 41.0,\n",
       " 72.0: 0.0,\n",
       " 80.0: 0.0}"
      ]
     },
     "execution_count": 213,
     "metadata": {},
     "output_type": "execute_result"
    }
   ],
   "source": [
    "dc"
   ]
  },
  {
   "cell_type": "code",
   "execution_count": 214,
   "metadata": {},
   "outputs": [],
   "source": [
    "#sett alle klassene som ikke er med i listen til 0 \n",
    "def classes_to_keep(dic, keep_classes, binary = False): \n",
    "    mod_dic = {}\n",
    "    i = 1.0\n",
    "    for key in dic: \n",
    "        if key not in keep_classes: mod_dic[key] = 0\n",
    "        else: \n",
    "            mod_dic[key] = i\n",
    "            if not binary: i +=1\n",
    "    return mod_dic"
   ]
  },
  {
   "cell_type": "code",
   "execution_count": 215,
   "metadata": {},
   "outputs": [
    {
     "data": {
      "text/plain": [
       "{0.0: 0,\n",
       " 2.0: 0,\n",
       " 3.0: 0,\n",
       " 4.0: 0,\n",
       " 5.0: 0,\n",
       " 7.0: 0,\n",
       " 8.0: 0,\n",
       " 10.0: 0,\n",
       " 11.0: 0,\n",
       " 12.0: 0,\n",
       " 13.0: 0,\n",
       " 14.0: 0,\n",
       " 15.0: 0,\n",
       " 16.0: 0,\n",
       " 17.0: 1.0,\n",
       " 18.0: 0,\n",
       " 24.0: 0,\n",
       " 26.0: 0,\n",
       " 28.0: 0,\n",
       " 30.0: 0,\n",
       " 31.0: 0,\n",
       " 41.0: 0,\n",
       " 42.0: 0,\n",
       " 43.0: 0,\n",
       " 44.0: 0,\n",
       " 46.0: 0,\n",
       " 47.0: 0,\n",
       " 49.0: 0,\n",
       " 50.0: 0,\n",
       " 51.0: 0,\n",
       " 52.0: 0,\n",
       " 53.0: 1.0,\n",
       " 54.0: 0,\n",
       " 58.0: 0,\n",
       " 60.0: 0,\n",
       " 62.0: 0,\n",
       " 63.0: 0,\n",
       " 77.0: 0,\n",
       " 85.0: 0,\n",
       " 251.0: 0,\n",
       " 252.0: 0,\n",
       " 253.0: 0,\n",
       " 254.0: 0,\n",
       " 255.0: 0,\n",
       " 72.0: 0,\n",
       " 80.0: 0}"
      ]
     },
     "execution_count": 215,
     "metadata": {},
     "output_type": "execute_result"
    }
   ],
   "source": [
    "keep_classes = [17.0, 53.0]\n",
    "dc_mod = classes_to_keep(dc, keep_classes, binary = True)\n",
    "dc_mod"
   ]
  },
  {
   "cell_type": "code",
   "execution_count": 216,
   "metadata": {},
   "outputs": [],
   "source": [
    "def label_masks(studies_path, dic):\n",
    "    \n",
    "    for path in studies_path:\n",
    "        study_id = (path.split(\"/\")[-1])\n",
    "        imgfn = (path + \"/\"+ study_id +\"_seg.nii.gz\")\n",
    "        \n",
    "        outfn = path + \"/\"+ study_id + \"_m.nii.gz\"\n",
    "    \n",
    "        img, rnx, rny, rnz, data, affine = load_nifti(imgfn)\n",
    "            \n",
    "        new_data = data #image matrix\n",
    "        unique_labels = np.unique(data) #unique labels for the matrix\n",
    "        for i in unique_labels:\n",
    "            new_data[new_data == i] = (dic[i])\n",
    "        new_data = new_data.astype('uint8')\n",
    "        \n",
    "        write_nifti(new_data, affine, outfn)"
   ]
  },
  {
   "cell_type": "code",
   "execution_count": 217,
   "metadata": {},
   "outputs": [],
   "source": [
    "label_masks(studies_path, dc_mod)"
   ]
  },
  {
   "cell_type": "markdown",
   "metadata": {},
   "source": [
    "## Remove images with depth below 150"
   ]
  },
  {
   "cell_type": "code",
   "execution_count": 170,
   "metadata": {},
   "outputs": [],
   "source": [
    "def remove_folders(studies_path, depth_size):\n",
    " \n",
    "    for path in studies_path:\n",
    "\n",
    "        study_id = (path.split(\"/\")[-1])\n",
    "        imgfn = (path + \"/\"+ study_id +\"_m.nii.gz\")\n",
    "        \n",
    "        img, rnx, rny, rnz, data, affine = load_nifti(imgfn)\n",
    "        depth = data.shape[2]\n",
    "        if depth < depth_size: \n",
    "            shutil.rmtree(path)"
   ]
  },
  {
   "cell_type": "code",
   "execution_count": 171,
   "metadata": {},
   "outputs": [],
   "source": [
    "depth_size = 150\n",
    "removed_values = remove_folders(studies_path, depth_size)"
   ]
  },
  {
   "cell_type": "markdown",
   "metadata": {},
   "source": [
    "# Normalize images "
   ]
  },
  {
   "cell_type": "code",
   "execution_count": 187,
   "metadata": {},
   "outputs": [],
   "source": [
    "def standardize_img(in_img):\n",
    "    '''\n",
    "    Input: in_img  - numpy ndarray \n",
    "    Output: out_img  - numpy ndarray with zero mean and unit variance\n",
    "    '''\n",
    "    out_img = (in_img - np.mean(in_img)) / np.std(in_img)\n",
    "    return out_img"
   ]
  },
  {
   "cell_type": "code",
   "execution_count": 188,
   "metadata": {},
   "outputs": [],
   "source": [
    "def normalization(studies_path, img_type):\n",
    "    for path in studies_path:\n",
    "        study_id = (path.split(\"/\")[-1])\n",
    "        img = f'{path}/{study_id}_{img_type}.nii.gz'\n",
    "        save_fn = f'{path}/{study_id}_{img_type}std.nii.gz'\n",
    "        \n",
    "        if Path(save_fn).is_file():\n",
    "            print(f\"{out_fn} and the rest already processed?\")\n",
    "            break\n",
    "        else:\n",
    "            rfunc, rnx, rny, rnz, data, affine = load_nifti(img)\n",
    "            out_data = standardize_img(data)\n",
    "            write_nifti(out_data, affine, save_fn)"
   ]
  },
  {
   "cell_type": "code",
   "execution_count": 189,
   "metadata": {},
   "outputs": [],
   "source": [
    "normalization(studies_path, 't2')"
   ]
  },
  {
   "cell_type": "code",
   "execution_count": null,
   "metadata": {},
   "outputs": [],
   "source": []
  }
 ],
 "metadata": {
  "kernelspec": {
   "display_name": "Python 3",
   "language": "python",
   "name": "python3"
  },
  "language_info": {
   "codemirror_mode": {
    "name": "ipython",
    "version": 3
   },
   "file_extension": ".py",
   "mimetype": "text/x-python",
   "name": "python",
   "nbconvert_exporter": "python",
   "pygments_lexer": "ipython3",
   "version": "3.6.6"
  }
 },
 "nbformat": 4,
 "nbformat_minor": 2
}
