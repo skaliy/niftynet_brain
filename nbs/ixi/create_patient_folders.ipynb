{
 "cells": [
  {
   "cell_type": "code",
   "execution_count": 63,
   "metadata": {},
   "outputs": [],
   "source": [
    "import shutil\n",
    "import os\n",
    "from collections import Counter\n",
    "from pathlib import Path\n",
    "import glob"
   ]
  },
  {
   "cell_type": "code",
   "execution_count": 64,
   "metadata": {},
   "outputs": [],
   "source": [
    "PATH = '/data-nas/brains/IXI_Dataset/interim_copy'"
   ]
  },
  {
   "cell_type": "code",
   "execution_count": 65,
   "metadata": {},
   "outputs": [],
   "source": [
    "files_path = os.listdir(PATH)"
   ]
  },
  {
   "cell_type": "code",
   "execution_count": 66,
   "metadata": {},
   "outputs": [
    {
     "data": {
      "text/plain": [
       "['IXI012-HH-1211_aseg_registered_cropped.nii.gz',\n",
       " 'IXI052-HH-1343-T2_registered.nii.gz',\n",
       " 'IXI075-Guys-0754_aseg_registered_cropped.nii.gz',\n",
       " 'IXI087-Guys-0768-T2_registered.nii.gz',\n",
       " 'IXI108-Guys-0865-T2_registered.nii.gz']"
      ]
     },
     "execution_count": 66,
     "metadata": {},
     "output_type": "execute_result"
    }
   ],
   "source": [
    "files_path[:5]"
   ]
  },
  {
   "cell_type": "code",
   "execution_count": 67,
   "metadata": {},
   "outputs": [],
   "source": [
    "id_values = [ \"-\".join(s.split(\"-\")[:1]) for s in files_path] "
   ]
  },
  {
   "cell_type": "code",
   "execution_count": 68,
   "metadata": {},
   "outputs": [],
   "source": [
    "names_studies = list(set(id_values))"
   ]
  },
  {
   "cell_type": "code",
   "execution_count": 69,
   "metadata": {},
   "outputs": [
    {
     "data": {
      "text/plain": [
       "(577, 'IXI353')"
      ]
     },
     "execution_count": 69,
     "metadata": {},
     "output_type": "execute_result"
    }
   ],
   "source": [
    "len(names_studies), names_studies[0]"
   ]
  },
  {
   "cell_type": "code",
   "execution_count": 70,
   "metadata": {},
   "outputs": [],
   "source": [
    "# define the name of the directory to be created\n",
    "for study in names_studies: \n",
    "    try:  \n",
    "        os.mkdir(f'{PATH}/{study}')\n",
    "    except OSError: \n",
    "        print(\"Creation of the directory %s failed\" % study)"
   ]
  },
  {
   "cell_type": "code",
   "execution_count": 71,
   "metadata": {},
   "outputs": [],
   "source": [
    "for study in names_studies: \n",
    "    matching = [shutil.move(f'{PATH}/{s}', f'{PATH}/{study}/{s}') for s in files_path if study in s]"
   ]
  },
  {
   "cell_type": "markdown",
   "metadata": {},
   "source": [
    "### Renaming files"
   ]
  },
  {
   "cell_type": "code",
   "execution_count": 72,
   "metadata": {},
   "outputs": [],
   "source": [
    "DATA = Path('/data-nas/brains/IXI_Dataset/interim_copy')"
   ]
  },
  {
   "cell_type": "code",
   "execution_count": 73,
   "metadata": {},
   "outputs": [],
   "source": [
    "studies_path = sorted(glob.glob(str(DATA)+'/*'))#/data-nas/brains/IXI_Dataset/interim_copy/IXI002"
   ]
  },
  {
   "cell_type": "code",
   "execution_count": 85,
   "metadata": {},
   "outputs": [
    {
     "data": {
      "text/plain": [
       "(['/data-nas/brains/IXI_Dataset/interim_copy/IXI002',\n",
       "  '/data-nas/brains/IXI_Dataset/interim_copy/IXI012'],\n",
       " 577)"
      ]
     },
     "execution_count": 85,
     "metadata": {},
     "output_type": "execute_result"
    }
   ],
   "source": [
    "studies_path[:2], len(studies_path)"
   ]
  },
  {
   "cell_type": "code",
   "execution_count": 84,
   "metadata": {},
   "outputs": [],
   "source": [
    "for s in studies_path: \n",
    "    files = os.listdir(s)\n",
    "    for f in files: \n",
    "        f_path = f'{s}/{f}'\n",
    "        new_name =  \"-\".join(f.split(\"-\")[:1])\n",
    "        if \"T1\" in f: \n",
    "            os.rename(f_path, f'{s}/{new_name}_t1.nii.gz')\n",
    "        elif \"T2\" in f: \n",
    "            os.rename(f_path, f'{s}/{new_name}_t2.nii.gz')\n",
    "        else:\n",
    "            os.rename(f_path, f'{s}/{new_name}_seg.nii.gz')"
   ]
  },
  {
   "cell_type": "code",
   "execution_count": null,
   "metadata": {},
   "outputs": [],
   "source": []
  }
 ],
 "metadata": {
  "kernelspec": {
   "display_name": "Python 3",
   "language": "python",
   "name": "python3"
  },
  "language_info": {
   "codemirror_mode": {
    "name": "ipython",
    "version": 3
   },
   "file_extension": ".py",
   "mimetype": "text/x-python",
   "name": "python",
   "nbconvert_exporter": "python",
   "pygments_lexer": "ipython3",
   "version": "3.6.6"
  }
 },
 "nbformat": 4,
 "nbformat_minor": 2
}
