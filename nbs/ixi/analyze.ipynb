{
 "cells": [
  {
   "cell_type": "code",
   "execution_count": 1,
   "metadata": {},
   "outputs": [],
   "source": [
    "import sys, os\n",
    "import glob\n",
    "from pprint import pprint\n",
    "import csv\n",
    "from pathlib import Path\n",
    "import numpy as np"
   ]
  },
  {
   "cell_type": "code",
   "execution_count": 45,
   "metadata": {},
   "outputs": [],
   "source": [
    "DATA = Path('/data-nas/brains/IXI_Dataset/interim_copy_test')"
   ]
  },
  {
   "cell_type": "code",
   "execution_count": 46,
   "metadata": {},
   "outputs": [
    {
     "data": {
      "text/plain": [
       "['/data-nas/brains/IXI_Dataset/interim_copy_test/IXI002',\n",
       " '/data-nas/brains/IXI_Dataset/interim_copy_test/IXI012',\n",
       " '/data-nas/brains/IXI_Dataset/interim_copy_test/IXI013',\n",
       " '/data-nas/brains/IXI_Dataset/interim_copy_test/IXI014',\n",
       " '/data-nas/brains/IXI_Dataset/interim_copy_test/IXI015']"
      ]
     },
     "execution_count": 46,
     "metadata": {},
     "output_type": "execute_result"
    }
   ],
   "source": [
    "studies_path = sorted(glob.glob(str(DATA)+'/*'))\n",
    "studies_path[:5]"
   ]
  },
  {
   "cell_type": "code",
   "execution_count": 4,
   "metadata": {},
   "outputs": [
    {
     "name": "stderr",
     "output_type": "stream",
     "text": [
      "/home/sathiesh/.conda/envs/fastai/lib/python3.6/importlib/_bootstrap.py:219: ImportWarning: can't resolve package from __spec__ or __package__, falling back on __name__ and __path__\n",
      "  return f(*args, **kwds)\n",
      "/home/sathiesh/.conda/envs/fastai/lib/python3.6/importlib/_bootstrap.py:219: ImportWarning: can't resolve package from __spec__ or __package__, falling back on __name__ and __path__\n",
      "  return f(*args, **kwds)\n"
     ]
    }
   ],
   "source": [
    "from utils import write_nifti, load_nifti"
   ]
  },
  {
   "cell_type": "markdown",
   "metadata": {},
   "source": [
    "# Unique values"
   ]
  },
  {
   "cell_type": "code",
   "execution_count": null,
   "metadata": {},
   "outputs": [],
   "source": [
    "def unique_values(studies_path):\n",
    " \n",
    "    count_values = {}\n",
    "    for path in studies_path:\n",
    "        study_id = (path.split(\"/\")[-1])\n",
    "        imgfn = (path + \"/\"+ study_id +\"_m.nii.gz\")\n",
    "        \n",
    "        img, rnx, rny, rnz, data, affine = load_nifti(imgfn)\n",
    "        \n",
    "        np_arr = np.unique(data) #unqiue values in a matrix \n",
    "        for i in np_arr: \n",
    "            if i in count_values: count_values[i] += 1 \n",
    "            else: count_values[i] = 1\n",
    "                \n",
    "    return count_values"
   ]
  },
  {
   "cell_type": "code",
   "execution_count": null,
   "metadata": {},
   "outputs": [],
   "source": [
    "#dic_classes = unique_values(studies_path)\n",
    "#dic_classes"
   ]
  },
  {
   "cell_type": "markdown",
   "metadata": {},
   "source": [
    "# Analyze single image"
   ]
  },
  {
   "cell_type": "code",
   "execution_count": 168,
   "metadata": {},
   "outputs": [],
   "source": [
    "#true value \n",
    "study_path = '/data-nas/brains/IXI_Dataset/interim_copy_test/IXI050'\n",
    "study_id = (study_path.split(\"/\")[-1])\n",
    "img_fn = (study_path + \"/\"+ study_id +\"_m.nii.gz\")"
   ]
  },
  {
   "cell_type": "code",
   "execution_count": 169,
   "metadata": {},
   "outputs": [],
   "source": [
    "img, rnx, rny, rnz, data, affine = load_nifti(img_fn)"
   ]
  },
  {
   "cell_type": "code",
   "execution_count": 170,
   "metadata": {},
   "outputs": [
    {
     "data": {
      "text/plain": [
       "(256, 256, 150)"
      ]
     },
     "execution_count": 170,
     "metadata": {},
     "output_type": "execute_result"
    }
   ],
   "source": [
    "data.shape"
   ]
  },
  {
   "cell_type": "code",
   "execution_count": 165,
   "metadata": {},
   "outputs": [],
   "source": [
    "#pred\n",
    "study_path_out = '/data-nas/sathiesh/niftynet_brain/outputs/ixi/inference/IXI050_niftynet_out'\n",
    "img_fn = (study_path_out + '.nii.gz')"
   ]
  },
  {
   "cell_type": "code",
   "execution_count": 166,
   "metadata": {},
   "outputs": [],
   "source": [
    "img, rnx, rny, rnz, data, affine = load_nifti(img_fn)"
   ]
  },
  {
   "cell_type": "code",
   "execution_count": 167,
   "metadata": {},
   "outputs": [
    {
     "data": {
      "text/plain": [
       "(256, 256, 150, 1, 1)"
      ]
     },
     "execution_count": 167,
     "metadata": {},
     "output_type": "execute_result"
    }
   ],
   "source": [
    "data.shape"
   ]
  },
  {
   "cell_type": "code",
   "execution_count": 125,
   "metadata": {},
   "outputs": [
    {
     "data": {
      "text/plain": [
       "140"
      ]
     },
     "execution_count": 125,
     "metadata": {},
     "output_type": "execute_result"
    }
   ],
   "source": [
    "data.shape[2]"
   ]
  },
  {
   "cell_type": "markdown",
   "metadata": {},
   "source": [
    "# Check depth for true value "
   ]
  },
  {
   "cell_type": "code",
   "execution_count": 53,
   "metadata": {},
   "outputs": [],
   "source": [
    "def img_depth(studies_path, image_type='m' ,is_pred = False):\n",
    "    \n",
    "    values = []\n",
    "    for path in studies_path:\n",
    "        \n",
    "        if is_pred: imgfn = path  \n",
    "        else: \n",
    "            study_id = (path.split(\"/\")[-1])\n",
    "            imgfn = f'{path}/{study_id}_{image_type}.nii.gz'\n",
    "            \n",
    "        if 'csv' not in imgfn:\n",
    "            img, rnx, rny, rnz, data, affine = load_nifti(imgfn)\n",
    "            depth = data.shape[2]\n",
    "            values.append(depth)\n",
    "    return values"
   ]
  },
  {
   "cell_type": "code",
   "execution_count": 54,
   "metadata": {},
   "outputs": [],
   "source": [
    "depth_values = img_depth(studies_path, image_type='m')"
   ]
  },
  {
   "cell_type": "code",
   "execution_count": 55,
   "metadata": {},
   "outputs": [],
   "source": [
    "unique, counts = np.unique(depth_values, return_counts=True)"
   ]
  },
  {
   "cell_type": "code",
   "execution_count": 56,
   "metadata": {},
   "outputs": [
    {
     "name": "stdout",
     "output_type": "stream",
     "text": [
      "Number of studies:[500], value: [150]\n"
     ]
    }
   ],
   "source": [
    "print(f'Number of studies:{counts}, value: {unique}')"
   ]
  },
  {
   "cell_type": "markdown",
   "metadata": {},
   "source": [
    "# Check depth for pred"
   ]
  },
  {
   "cell_type": "code",
   "execution_count": 37,
   "metadata": {},
   "outputs": [],
   "source": [
    "DATA = Path('/data-nas/sathiesh/niftynet_brain/outputs/ixi/inference')"
   ]
  },
  {
   "cell_type": "code",
   "execution_count": 38,
   "metadata": {},
   "outputs": [],
   "source": [
    "pred_path = sorted(glob.glob(str(DATA)+'/*'))"
   ]
  },
  {
   "cell_type": "code",
   "execution_count": 39,
   "metadata": {},
   "outputs": [],
   "source": [
    "depth_values = img_depth(pred_path, is_pred=True)"
   ]
  },
  {
   "cell_type": "code",
   "execution_count": 40,
   "metadata": {},
   "outputs": [],
   "source": [
    "unique, counts = np.unique(depth_values, return_counts=True)"
   ]
  },
  {
   "cell_type": "code",
   "execution_count": 41,
   "metadata": {},
   "outputs": [
    {
     "name": "stdout",
     "output_type": "stream",
     "text": [
      "Number of studies:[50], value: [150]\n"
     ]
    }
   ],
   "source": [
    "print(f'Number of studies:{counts}, value: {unique}')"
   ]
  }
 ],
 "metadata": {
  "kernelspec": {
   "display_name": "Python 3",
   "language": "python",
   "name": "python3"
  },
  "language_info": {
   "codemirror_mode": {
    "name": "ipython",
    "version": 3
   },
   "file_extension": ".py",
   "mimetype": "text/x-python",
   "name": "python",
   "nbconvert_exporter": "python",
   "pygments_lexer": "ipython3",
   "version": "3.6.6"
  }
 },
 "nbformat": 4,
 "nbformat_minor": 2
}
