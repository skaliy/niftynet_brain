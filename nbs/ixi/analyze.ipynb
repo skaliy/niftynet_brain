{
 "cells": [
  {
   "cell_type": "code",
   "execution_count": 134,
   "metadata": {},
   "outputs": [],
   "source": [
    "import sys, os\n",
    "import glob\n",
    "from pprint import pprint\n",
    "import csv\n",
    "from pathlib import Path\n",
    "import numpy as np"
   ]
  },
  {
   "cell_type": "code",
   "execution_count": 135,
   "metadata": {},
   "outputs": [],
   "source": [
    "DATA = Path('/data-nas/brains/IXI_Dataset/interim_copy_test')"
   ]
  },
  {
   "cell_type": "code",
   "execution_count": 136,
   "metadata": {},
   "outputs": [
    {
     "data": {
      "text/plain": [
       "['/data-nas/brains/IXI_Dataset/interim_copy_test/IXI002',\n",
       " '/data-nas/brains/IXI_Dataset/interim_copy_test/IXI012',\n",
       " '/data-nas/brains/IXI_Dataset/interim_copy_test/IXI013',\n",
       " '/data-nas/brains/IXI_Dataset/interim_copy_test/IXI014',\n",
       " '/data-nas/brains/IXI_Dataset/interim_copy_test/IXI015']"
      ]
     },
     "execution_count": 136,
     "metadata": {},
     "output_type": "execute_result"
    }
   ],
   "source": [
    "studies_path = sorted(glob.glob(str(DATA)+'/*'))\n",
    "studies_path[:5]"
   ]
  },
  {
   "cell_type": "code",
   "execution_count": 137,
   "metadata": {},
   "outputs": [],
   "source": [
    "from utils import write_nifti, load_nifti"
   ]
  },
  {
   "cell_type": "markdown",
   "metadata": {},
   "source": [
    "# Unique values"
   ]
  },
  {
   "cell_type": "code",
   "execution_count": null,
   "metadata": {},
   "outputs": [],
   "source": [
    "def unique_values(studies_path):\n",
    " \n",
    "    count_values = {}\n",
    "    for path in studies_path:\n",
    "        study_id = (path.split(\"/\")[-1])\n",
    "        imgfn = (path + \"/\"+ study_id +\"_m.nii.gz\")\n",
    "        \n",
    "        img, rnx, rny, rnz, data, affine = load_nifti(imgfn)\n",
    "        \n",
    "        np_arr = np.unique(data) #unqiue values in a matrix \n",
    "        for i in np_arr: \n",
    "            if i in count_values: count_values[i] += 1 \n",
    "            else: count_values[i] = 1\n",
    "                \n",
    "    return count_values"
   ]
  },
  {
   "cell_type": "code",
   "execution_count": null,
   "metadata": {},
   "outputs": [],
   "source": [
    "#dic_classes = unique_values(studies_path)\n",
    "#dic_classes"
   ]
  },
  {
   "cell_type": "markdown",
   "metadata": {},
   "source": [
    "# Analyze single image"
   ]
  },
  {
   "cell_type": "code",
   "execution_count": 110,
   "metadata": {},
   "outputs": [],
   "source": [
    "#true value \n",
    "study_path = '/data-nas/brains/IXI_Dataset/interim_copy_test/IXI014'\n",
    "study_id = (study_path.split(\"/\")[-1])\n",
    "imgfn = (study_path + \"/\"+ study_id +\"_m.nii.gz\")"
   ]
  },
  {
   "cell_type": "code",
   "execution_count": null,
   "metadata": {},
   "outputs": [],
   "source": [
    "img, rnx, rny, rnz, data, affine = load_nifti(imgfn)"
   ]
  },
  {
   "cell_type": "code",
   "execution_count": null,
   "metadata": {},
   "outputs": [],
   "source": [
    "data.shape"
   ]
  },
  {
   "cell_type": "code",
   "execution_count": 116,
   "metadata": {},
   "outputs": [],
   "source": [
    "#pred\n",
    "study_path_out = '/data-nas/sathiesh/niftynet_brain/outputs/ixi/inference/IXI014_niftynet_out'\n",
    "imgfn = (study_path_out + '.nii.gz')"
   ]
  },
  {
   "cell_type": "code",
   "execution_count": 117,
   "metadata": {},
   "outputs": [],
   "source": [
    "img, rnx, rny, rnz, data, affine = load_nifti(imgfn)"
   ]
  },
  {
   "cell_type": "code",
   "execution_count": 123,
   "metadata": {},
   "outputs": [
    {
     "data": {
      "text/plain": [
       "(256, 256, 140, 1, 1)"
      ]
     },
     "execution_count": 123,
     "metadata": {},
     "output_type": "execute_result"
    }
   ],
   "source": [
    "data.shape"
   ]
  },
  {
   "cell_type": "code",
   "execution_count": 125,
   "metadata": {},
   "outputs": [
    {
     "data": {
      "text/plain": [
       "140"
      ]
     },
     "execution_count": 125,
     "metadata": {},
     "output_type": "execute_result"
    }
   ],
   "source": [
    "data.shape[2]"
   ]
  },
  {
   "cell_type": "markdown",
   "metadata": {},
   "source": [
    "# Check depth "
   ]
  },
  {
   "cell_type": "code",
   "execution_count": 138,
   "metadata": {},
   "outputs": [],
   "source": [
    "def img_depth(studies_path):\n",
    " \n",
    "    values = []\n",
    "    for path in studies_path:\n",
    "        study_id = (path.split(\"/\")[-1])\n",
    "        imgfn = (path + \"/\"+ study_id +\"_m.nii.gz\")\n",
    "        \n",
    "        img, rnx, rny, rnz, data, affine = load_nifti(imgfn)\n",
    "        depth = data.shape[2]\n",
    "        values.append(depth)\n",
    "    return values"
   ]
  },
  {
   "cell_type": "code",
   "execution_count": 139,
   "metadata": {},
   "outputs": [],
   "source": [
    "depth_values = img_depth(studies_path)"
   ]
  },
  {
   "cell_type": "code",
   "execution_count": 140,
   "metadata": {},
   "outputs": [],
   "source": [
    "unique, counts = np.unique(depth_values, return_counts=True)"
   ]
  },
  {
   "cell_type": "code",
   "execution_count": 141,
   "metadata": {},
   "outputs": [
    {
     "data": {
      "text/plain": [
       "array([[500, 150]])"
      ]
     },
     "execution_count": 141,
     "metadata": {},
     "output_type": "execute_result"
    }
   ],
   "source": [
    "np.asarray((counts, unique)).T"
   ]
  },
  {
   "cell_type": "code",
   "execution_count": null,
   "metadata": {},
   "outputs": [],
   "source": []
  }
 ],
 "metadata": {
  "kernelspec": {
   "display_name": "Python 3",
   "language": "python",
   "name": "python3"
  },
  "language_info": {
   "codemirror_mode": {
    "name": "ipython",
    "version": 3
   },
   "file_extension": ".py",
   "mimetype": "text/x-python",
   "name": "python",
   "nbconvert_exporter": "python",
   "pygments_lexer": "ipython3",
   "version": "3.6.6"
  }
 },
 "nbformat": 4,
 "nbformat_minor": 2
}
