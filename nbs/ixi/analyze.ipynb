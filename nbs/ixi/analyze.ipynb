{
 "cells": [
  {
   "cell_type": "code",
   "execution_count": 76,
   "metadata": {
    "collapsed": true
   },
   "outputs": [],
   "source": [
    "import sys, os\n",
    "import glob\n",
    "from pprint import pprint\n",
    "import csv\n",
    "from pathlib import Path\n",
    "import numpy as np"
   ]
  },
  {
   "cell_type": "code",
   "execution_count": 77,
   "metadata": {
    "collapsed": true
   },
   "outputs": [],
   "source": [
    "DATA = Path('/data-nas/brains/IXI_Dataset/interim_copy_test')"
   ]
  },
  {
   "cell_type": "code",
   "execution_count": 78,
   "metadata": {
    "collapsed": false
   },
   "outputs": [
    {
     "data": {
      "text/plain": [
       "['/data-nas/brains/IXI_Dataset/interim_copy_test/IXI002',\n",
       " '/data-nas/brains/IXI_Dataset/interim_copy_test/IXI012',\n",
       " '/data-nas/brains/IXI_Dataset/interim_copy_test/IXI013',\n",
       " '/data-nas/brains/IXI_Dataset/interim_copy_test/IXI014',\n",
       " '/data-nas/brains/IXI_Dataset/interim_copy_test/IXI015']"
      ]
     },
     "execution_count": 78,
     "metadata": {},
     "output_type": "execute_result"
    }
   ],
   "source": [
    "studies_path = sorted(glob.glob(str(DATA)+'/*'))\n",
    "studies_path[:5]"
   ]
  },
  {
   "cell_type": "code",
   "execution_count": 79,
   "metadata": {
    "collapsed": true
   },
   "outputs": [],
   "source": [
    "from utils import write_nifti, load_nifti"
   ]
  },
  {
   "cell_type": "markdown",
   "metadata": {},
   "source": [
    "# Unique values"
   ]
  },
  {
   "cell_type": "code",
   "execution_count": 69,
   "metadata": {
    "collapsed": true
   },
   "outputs": [],
   "source": [
    "def unique_values(studies_path):\n",
    " \n",
    "    count_values = {}\n",
    "    for path in studies_path:\n",
    "        study_id = (path.split(\"/\")[-1])\n",
    "        imgfn = (path + \"/\"+ study_id +\"_m.nii.gz\")\n",
    "        \n",
    "        img, rnx, rny, rnz, data, affine = load_nifti(imgfn)\n",
    "        \n",
    "        np_arr = np.unique(data) #unqiue values in a matrix \n",
    "        for i in np_arr: \n",
    "            if i in count_values: count_values[i] += 1 \n",
    "            else: count_values[i] = 1\n",
    "                \n",
    "    return count_values"
   ]
  },
  {
   "cell_type": "code",
   "execution_count": 70,
   "metadata": {
    "collapsed": true
   },
   "outputs": [],
   "source": [
    "dic_classes = unique_values(studies_path)\n",
    "#dic_classes"
   ]
  },
  {
   "cell_type": "code",
   "execution_count": 75,
   "metadata": {
    "collapsed": false
   },
   "outputs": [
    {
     "data": {
      "text/plain": [
       "{0: 500,\n",
       " 1: 500,\n",
       " 2: 500,\n",
       " 3: 500,\n",
       " 4: 500,\n",
       " 5: 500,\n",
       " 6: 500,\n",
       " 7: 500,\n",
       " 8: 500,\n",
       " 9: 500,\n",
       " 10: 500,\n",
       " 11: 500,\n",
       " 12: 500,\n",
       " 13: 500,\n",
       " 14: 500,\n",
       " 15: 500,\n",
       " 16: 500,\n",
       " 17: 500,\n",
       " 18: 500,\n",
       " 19: 500,\n",
       " 20: 500,\n",
       " 21: 500,\n",
       " 22: 500,\n",
       " 23: 500,\n",
       " 24: 500,\n",
       " 25: 500,\n",
       " 26: 500,\n",
       " 27: 500,\n",
       " 28: 500,\n",
       " 29: 500,\n",
       " 30: 500,\n",
       " 31: 500,\n",
       " 32: 500,\n",
       " 33: 500,\n",
       " 34: 500,\n",
       " 35: 500,\n",
       " 36: 500,\n",
       " 37: 500,\n",
       " 38: 500,\n",
       " 39: 500,\n",
       " 40: 500,\n",
       " 41: 500}"
      ]
     },
     "execution_count": 75,
     "metadata": {},
     "output_type": "execute_result"
    }
   ],
   "source": [
    "dic_classes"
   ]
  },
  {
   "cell_type": "markdown",
   "metadata": {},
   "source": [
    "# Analyze single image"
   ]
  },
  {
   "cell_type": "code",
   "execution_count": 168,
   "metadata": {
    "collapsed": true
   },
   "outputs": [],
   "source": [
    "#true value \n",
    "study_path = '/data-nas/brains/IXI_Dataset/interim_copy_test/IXI050'\n",
    "study_id = (study_path.split(\"/\")[-1])\n",
    "img_fn = (study_path + \"/\"+ study_id +\"_m.nii.gz\")"
   ]
  },
  {
   "cell_type": "code",
   "execution_count": 169,
   "metadata": {
    "collapsed": true
   },
   "outputs": [],
   "source": [
    "img, rnx, rny, rnz, data, affine = load_nifti(img_fn)"
   ]
  },
  {
   "cell_type": "code",
   "execution_count": 170,
   "metadata": {
    "collapsed": false
   },
   "outputs": [
    {
     "data": {
      "text/plain": [
       "(256, 256, 150)"
      ]
     },
     "execution_count": 170,
     "metadata": {},
     "output_type": "execute_result"
    }
   ],
   "source": [
    "data.shape"
   ]
  },
  {
   "cell_type": "code",
   "execution_count": 61,
   "metadata": {
    "collapsed": true
   },
   "outputs": [],
   "source": [
    "#pred\n",
    "study_path_out = '/data-nas/sathiesh/niftynet_brain/outputs/ixi/inference/IXI311_niftynet_out'\n",
    "img_fn = (study_path_out + '.nii.gz')"
   ]
  },
  {
   "cell_type": "code",
   "execution_count": 62,
   "metadata": {
    "collapsed": true
   },
   "outputs": [],
   "source": [
    "img, rnx, rny, rnz, data, affine = load_nifti(img_fn)"
   ]
  },
  {
   "cell_type": "code",
   "execution_count": 63,
   "metadata": {
    "collapsed": false
   },
   "outputs": [
    {
     "data": {
      "text/plain": [
       "(256, 256, 150, 1, 1)"
      ]
     },
     "execution_count": 63,
     "metadata": {},
     "output_type": "execute_result"
    }
   ],
   "source": [
    "data.shape"
   ]
  },
  {
   "cell_type": "code",
   "execution_count": 64,
   "metadata": {
    "collapsed": false
   },
   "outputs": [
    {
     "data": {
      "text/plain": [
       "150"
      ]
     },
     "execution_count": 64,
     "metadata": {},
     "output_type": "execute_result"
    }
   ],
   "source": [
    "data.shape[2]"
   ]
  },
  {
   "cell_type": "markdown",
   "metadata": {},
   "source": [
    "# Check depth for true value "
   ]
  },
  {
   "cell_type": "code",
   "execution_count": 80,
   "metadata": {
    "collapsed": true
   },
   "outputs": [],
   "source": [
    "def img_depth(studies_path, image_type='m' ,is_pred = False):\n",
    "    \n",
    "    values = []\n",
    "    for path in studies_path:\n",
    "        \n",
    "        if is_pred: imgfn = path  \n",
    "        else: \n",
    "            study_id = (path.split(\"/\")[-1])\n",
    "            imgfn = f'{path}/{study_id}_{image_type}.nii.gz'\n",
    "            \n",
    "        if 'csv' not in imgfn:\n",
    "            img, rnx, rny, rnz, data, affine = load_nifti(imgfn)\n",
    "            depth = data.shape[2]\n",
    "            values.append(depth)\n",
    "    return values"
   ]
  },
  {
   "cell_type": "code",
   "execution_count": 81,
   "metadata": {
    "collapsed": true
   },
   "outputs": [],
   "source": [
    "depth_values = img_depth(studies_path, image_type='m')"
   ]
  },
  {
   "cell_type": "code",
   "execution_count": 82,
   "metadata": {
    "collapsed": true
   },
   "outputs": [],
   "source": [
    "unique, counts = np.unique(depth_values, return_counts=True)"
   ]
  },
  {
   "cell_type": "code",
   "execution_count": 83,
   "metadata": {
    "collapsed": false
   },
   "outputs": [
    {
     "name": "stdout",
     "output_type": "stream",
     "text": [
      "Number of studies:[500], value: [150]\n"
     ]
    }
   ],
   "source": [
    "print(f'Number of studies:{counts}, value: {unique}')"
   ]
  },
  {
   "cell_type": "markdown",
   "metadata": {},
   "source": [
    "# Check depth for pred"
   ]
  },
  {
   "cell_type": "code",
   "execution_count": 37,
   "metadata": {
    "collapsed": true
   },
   "outputs": [],
   "source": [
    "DATA = Path('/data-nas/sathiesh/niftynet_brain/outputs/ixi/inference')"
   ]
  },
  {
   "cell_type": "code",
   "execution_count": 38,
   "metadata": {
    "collapsed": true
   },
   "outputs": [],
   "source": [
    "pred_path = sorted(glob.glob(str(DATA)+'/*'))"
   ]
  },
  {
   "cell_type": "code",
   "execution_count": 39,
   "metadata": {
    "collapsed": true
   },
   "outputs": [],
   "source": [
    "depth_values = img_depth(pred_path, is_pred=True)"
   ]
  },
  {
   "cell_type": "code",
   "execution_count": 40,
   "metadata": {
    "collapsed": true
   },
   "outputs": [],
   "source": [
    "unique, counts = np.unique(depth_values, return_counts=True)"
   ]
  },
  {
   "cell_type": "code",
   "execution_count": 41,
   "metadata": {
    "collapsed": false
   },
   "outputs": [
    {
     "name": "stdout",
     "output_type": "stream",
     "text": [
      "Number of studies:[50], value: [150]\n"
     ]
    }
   ],
   "source": [
    "print(f'Number of studies:{counts}, value: {unique}')"
   ]
  }
 ],
 "metadata": {
  "kernelspec": {
   "display_name": "Python [conda env:fastai]",
   "language": "python",
   "name": "conda-env-fastai-py"
  },
  "language_info": {
   "codemirror_mode": {
    "name": "ipython",
    "version": 3
   },
   "file_extension": ".py",
   "mimetype": "text/x-python",
   "name": "python",
   "nbconvert_exporter": "python",
   "pygments_lexer": "ipython3",
   "version": "3.6.6"
  }
 },
 "nbformat": 4,
 "nbformat_minor": 2
}
