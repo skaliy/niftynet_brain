{
 "cells": [
  {
   "cell_type": "code",
   "execution_count": 62,
   "metadata": {},
   "outputs": [],
   "source": [
    "import numpy as np\n",
    "import pandas as pd\n",
    "import sys, os\n",
    "import glob\n",
    "from pprint import pprint\n",
    "import csv\n",
    "from pathlib import Path"
   ]
  },
  {
   "cell_type": "code",
   "execution_count": 76,
   "metadata": {},
   "outputs": [],
   "source": [
    "NB_DIR = %pwd\n",
    "NB_DIR = Path(NB_DIR)\n",
    "image = 't1'"
   ]
  },
  {
   "cell_type": "code",
   "execution_count": 77,
   "metadata": {},
   "outputs": [],
   "source": [
    "DATA = Path('/data-nas/brains/IXI_Dataset/interim_copy')"
   ]
  },
  {
   "cell_type": "code",
   "execution_count": 78,
   "metadata": {},
   "outputs": [],
   "source": [
    "studies_path = sorted(glob.glob(str(DATA)+'/*'))#/home/sathiesh/BRAT18/HGG/Brats18_2013_10_1"
   ]
  },
  {
   "cell_type": "code",
   "execution_count": 79,
   "metadata": {},
   "outputs": [
    {
     "data": {
      "text/plain": [
       "577"
      ]
     },
     "execution_count": 79,
     "metadata": {},
     "output_type": "execute_result"
    }
   ],
   "source": [
    "len(studies_path)"
   ]
  },
  {
   "cell_type": "code",
   "execution_count": 80,
   "metadata": {},
   "outputs": [
    {
     "data": {
      "text/plain": [
       "['/data-nas/brains/IXI_Dataset/interim_copy/IXI002',\n",
       " '/data-nas/brains/IXI_Dataset/interim_copy/IXI012',\n",
       " '/data-nas/brains/IXI_Dataset/interim_copy/IXI013',\n",
       " '/data-nas/brains/IXI_Dataset/interim_copy/IXI014',\n",
       " '/data-nas/brains/IXI_Dataset/interim_copy/IXI015']"
      ]
     },
     "execution_count": 80,
     "metadata": {},
     "output_type": "execute_result"
    }
   ],
   "source": [
    "studies_path[:5]"
   ]
  },
  {
   "cell_type": "code",
   "execution_count": 81,
   "metadata": {},
   "outputs": [],
   "source": [
    "studies_id = sorted(os.listdir(PATH))"
   ]
  },
  {
   "cell_type": "code",
   "execution_count": 82,
   "metadata": {},
   "outputs": [
    {
     "data": {
      "text/plain": [
       "['IXI002', 'IXI012']"
      ]
     },
     "execution_count": 82,
     "metadata": {},
     "output_type": "execute_result"
    }
   ],
   "source": [
    "studies_id[:2]"
   ]
  },
  {
   "cell_type": "markdown",
   "metadata": {},
   "source": [
    "# Create CSV "
   ]
  },
  {
   "cell_type": "code",
   "execution_count": 83,
   "metadata": {},
   "outputs": [],
   "source": [
    "CSV_PATH = NB_DIR/'../../csv/ixi'\n",
    "CSV_PATH.mkdir(exist_ok=True)"
   ]
  },
  {
   "cell_type": "code",
   "execution_count": 84,
   "metadata": {},
   "outputs": [],
   "source": [
    "def create_niftynet_csv(dataset, studies_id, outputdir=CSV_PATH):\n",
    "    \"\"\"\n",
    "    Input: \n",
    "        dataset: path to a folder containing studies with labelled data\n",
    "    Output:\n",
    "        - One CSV containing \"ID, original image\" for all studies\n",
    "        - One CSV containing \"ID, brain image\" for all studies\n",
    "        - Multiple CSVs, one for each label type (aseg, aparc+aseg, ribbon, etc)\n",
    "    \"\"\"\n",
    "            \n",
    "    # Create data CSVs\n",
    "    \n",
    "    for fn in ['seg.nii.gz', f'{image}.nii.gz']:\n",
    "        \n",
    "        images_studies = [f\"{f}/{f.split('/')[-1]}_{fn}\" for f in dataset]\n",
    "        data = list(zip(studies_id, images_studies))\n",
    "        \n",
    "        datafn = f'{outputdir}/{fn.split(\".\")[0]}.csv'\n",
    "        \n",
    "        with open(datafn,'w') as out:\n",
    "            csv_out=csv.writer(out)\n",
    "            #csv_out.writerow(['ID','location'])\n",
    "            for row in data:\n",
    "                csv_out.writerow(row)\n",
    "            print(f'{datafn} created')"
   ]
  },
  {
   "cell_type": "code",
   "execution_count": 85,
   "metadata": {},
   "outputs": [
    {
     "name": "stdout",
     "output_type": "stream",
     "text": [
      "/home/sathiesh/niftynet_brain/nbs/ixi/../../csv/ixi/seg.csv created\n",
      "/home/sathiesh/niftynet_brain/nbs/ixi/../../csv/ixi/t1.csv created\n"
     ]
    }
   ],
   "source": [
    "create_niftynet_csv(studies_path, studies_id)"
   ]
  },
  {
   "cell_type": "code",
   "execution_count": null,
   "metadata": {},
   "outputs": [],
   "source": []
  }
 ],
 "metadata": {
  "kernelspec": {
   "display_name": "Python 3",
   "language": "python",
   "name": "python3"
  },
  "language_info": {
   "codemirror_mode": {
    "name": "ipython",
    "version": 3
   },
   "file_extension": ".py",
   "mimetype": "text/x-python",
   "name": "python",
   "nbconvert_exporter": "python",
   "pygments_lexer": "ipython3",
   "version": "3.6.6"
  }
 },
 "nbformat": 4,
 "nbformat_minor": 2
}
